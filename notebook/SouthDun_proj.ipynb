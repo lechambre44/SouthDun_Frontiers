{
 "cells": [
  {
   "cell_type": "markdown",
   "id": "1888fc6d-ca43-471e-8a9e-ea05cac5d5d0",
   "metadata": {
    "tags": []
   },
   "source": [
    "# Projection"
   ]
  },
  {
   "cell_type": "markdown",
   "id": "036d9ee3-564c-4494-960e-c1ca8ce549fa",
   "metadata": {
    "tags": []
   },
   "source": [
    "### Make some imports"
   ]
  },
  {
   "cell_type": "code",
   "execution_count": null,
   "id": "54924a4e-5f2a-47e4-bce9-a1ce3822a2e7",
   "metadata": {
    "tags": []
   },
   "outputs": [],
   "source": [
    "%matplotlib widget\n",
    "import os\n",
    "import numpy as np\n",
    "import pandas as pd\n",
    "import matplotlib.pyplot as plt\n",
    "import shutil\n",
    "from pathlib import Path\n",
    "\n",
    "# from scipy import ndimage as nd\n",
    "\n",
    "import flopy\n",
    "print(\"flopy path: {}\".format(flopy.__path__))\n",
    "print(\"flopy version: {}\".format(flopy.__version__))\n",
    "import pyemu"
   ]
  },
  {
   "cell_type": "markdown",
   "id": "c4e04ca0-5603-43cf-94e8-f7fcaf9487e9",
   "metadata": {
    "tags": []
   },
   "source": [
    "### also import some external scripts (where most of the work is done!)"
   ]
  },
  {
   "cell_type": "code",
   "execution_count": null,
   "id": "882fe817-865f-4cc6-ac96-a396309deac5",
   "metadata": {
    "tags": []
   },
   "outputs": [],
   "source": [
    "import sys\n",
    "sys.path.append(\"..\")\n",
    "from scripts import utils\n",
    "from scripts import build"
   ]
  },
  {
   "cell_type": "markdown",
   "id": "6972e007-f70f-4d58-bb1d-cf348a82b2c8",
   "metadata": {},
   "source": [
    "# Attach SLR scenario (e.g., SSP5)"
   ]
  },
  {
   "cell_type": "markdown",
   "id": "e2afc8a7-d967-4195-b79e-52dada4a0ff4",
   "metadata": {},
   "source": [
    "#### We attach the posterior ensemble (fit=6) and attach SLR scenario using 'attach_scenario' function in build.py script "
   ]
  },
  {
   "cell_type": "code",
   "execution_count": null,
   "id": "8d61d935-41ad-4780-a2f7-e2604c9a0f5f",
   "metadata": {
    "scrolled": true,
    "tags": []
   },
   "outputs": [],
   "source": [
    "t_d = \"template_proj_101\"\n",
    "scen = \"SSP3\"\n",
    "#m_d = f\"master_{scen}\"\n",
    "pred_m = build.attach_scenario(model=t_d, scen=scen) # attach SLR scenario"
   ]
  },
  {
   "cell_type": "markdown",
   "id": "4bfe7377-70df-4297-9610-cebf7cfa4a64",
   "metadata": {},
   "source": [
    "# Run projection model ensemble \n",
    "## posterior Monte Carlo using PEST++ (combine posterior ensemble of parameters for history period with unconditioned temporal parameters)"
   ]
  },
  {
   "cell_type": "code",
   "execution_count": null,
   "id": "14fec18b-4334-4ac6-a18c-8a3e8a4dde62",
   "metadata": {
    "tags": []
   },
   "outputs": [],
   "source": [
    "nreals=100  # number of realisations for predictive ensemble (if less than nreals in historymatching)\n",
    "fit=2  # iteration number\n",
    "nworkers=5 #os.cpu_count()-1  # number of parallel realisation to run (lower if cpu limited)\n",
    "m_d = f\"master_{scen}_100\"\n",
    "utils.prep_and_run(\"Dunedin_Pred_base.pst\", t_d=t_d, m_d=m_d,\n",
    "                    nreals=nreals, noptmax=-1, nworker=nworkers,\n",
    "                    prior_pe=\"prior_pe.jcb\",\n",
    "                    post_pe=os.path.join(\"..\", \"master\",\n",
    "                                         f\"Dunedin_SS_base.{fit}.par.jcb\"))"
   ]
  },
  {
   "cell_type": "markdown",
   "id": "fb251b65-ce8f-4449-8120-5e1029b3f00b",
   "metadata": {},
   "source": [
    "# Read and process ensemble outputs for projection period"
   ]
  },
  {
   "cell_type": "code",
   "execution_count": null,
   "id": "2ca23a70-5b21-4afb-a773-60f386a97c9e",
   "metadata": {
    "tags": []
   },
   "outputs": [],
   "source": [
    "#pred_pst = \"Dunedin_Pred_base.pst\"\n",
    "m_d = f\"master_{scen}_100\"\n",
    "m_d =os.path.join(\"..\", m_d)\n",
    "m = flopy.modflow.Modflow.load(\n",
    "    f=\"SouthDun_100.nam\", \n",
    "    model_ws=m_d, \n",
    "    version='mfnwt',\n",
    "    exe_name='mfnwt.exe', \n",
    "    verbose=False, \n",
    "    check=True\n",
    ")\n",
    "# PROCESS SWEEP OUTPUTS\n",
    "# re-read pst control file from master dir\n",
    "try:\n",
    "    pred_pst.filename = Path(pred_pst.filename)\n",
    "    pred_pst = pyemu.Pst(os.path.join(m_d, pred_pst.filename.name))\n",
    "except (AttributeError, NameError):\n",
    "    pred_pst = \"Dunedin_Pred_base.pst\"\n",
    "    pred_pst = pyemu.Pst(os.path.join(m_d, pred_pst))\n",
    "pstfnme = Path(pred_pst.filename)"
   ]
  },
  {
   "cell_type": "markdown",
   "id": "eed52220-128e-4493-bb09-5427a478166b",
   "metadata": {},
   "source": [
    "#### Read in projection results"
   ]
  },
  {
   "cell_type": "code",
   "execution_count": null,
   "id": "033aab6b-6f41-44dc-8f02-4c69f9c3f7aa",
   "metadata": {
    "tags": []
   },
   "outputs": [],
   "source": [
    "# re ensemble outputs\n",
    "oe_po_tr = utils.try_load_ensemble(pred_pst, os.path.join(m_d, \"Dunedin_Pred_base.0.obs.jcb\"), kind='obs')"
   ]
  },
  {
   "cell_type": "markdown",
   "id": "e3360a96-39d9-4840-af88-6dab284a399d",
   "metadata": {},
   "source": [
    "### Let's look at mapping the probability of groundwater inundation for a specific year of the scenario (e.g., 2100)"
   ]
  },
  {
   "cell_type": "code",
   "execution_count": null,
   "id": "60b7a5dd-59cb-43b6-bd26-61efbac86dde",
   "metadata": {
    "tags": []
   },
   "outputs": [],
   "source": [
    "# get pest obs data\n",
    "obs = pred_pst.observation_data\n",
    "\n",
    "yr = 2110 # specify year of scenario\n",
    "kper = yr - 2010\n",
    "\n",
    "obs = obs.loc[obs.index.str.contains(f'kper:{kper}')]\n",
    "\n",
    "# just hd outputs\n",
    "hdobs = obs.loc[obs.obgnme == \"oname:hd_otype:lst_usecol:obsval\"].astype({c:int for c in ['kper','k','i','j']})\n",
    "# add column that aligns model top info to hd output names\n",
    "hdobs['top'] = m.dis.top.array[tuple(hdobs[['i','j']].T.values)]\n",
    "\n",
    "# calc probabilities of exceed for every output\n",
    "# Transpose obs ensemble (ensemble outputs), slice for just hd obs, \n",
    "# substract model top from every realisation,\n",
    "# where positive simulated head exceeds model top, count reals where positive, divide by nreal\n",
    "hdobs['prob'] = ((oe_po_tr.T.loc[hdobs.index].sub(hdobs.top, axis=0) + 0) > 0).sum(axis=1)/oe_po_tr.shape[0]\n",
    "\n",
    "# create an array from these obs -- WILL NEED TO BE DIF IF MULTPLE KPER AND LAYERS\n",
    "ar = np.zeros((m.nrow, m.ncol)) # blank array\n",
    "\n",
    "# add elements from dataframe\n",
    "ar[tuple(hdobs[['i','j']].T.values)] = hdobs.prob\n",
    "\n",
    "plt.figure(figsize=(6,6))\n",
    "plt.title(yr, fontsize=12)\n",
    "plt.imshow(np.ma.masked_where(m.bas6.ibound.array[0]==0, ar), cmap='plasma')\n",
    "plt.colorbar()"
   ]
  },
  {
   "cell_type": "markdown",
   "id": "9d3c9b7c-7694-486c-842f-8939aa6c71b1",
   "metadata": {},
   "source": [
    "### Projection of groundwater levels at observation locations"
   ]
  },
  {
   "cell_type": "code",
   "execution_count": null,
   "id": "f0098b6f-5c47-44e6-b0df-d1ea11e6c62d",
   "metadata": {
    "tags": []
   },
   "outputs": [],
   "source": [
    "# get pest obs data\n",
    "obs = pred_pst.observation_data\n",
    "#obs.loc[obs.oname=='wl']\n",
    "w_obs = obs.loc[obs.index.str.contains('sitename')]\n",
    "sitegroups = w_obs.groupby(\"sitename\")\n",
    "gps = sitegroups.first().astype({'i':int, 'j':int})\n",
    "for site, w_obs_df in sitegroups:\n",
    "    top = m.dis.top.array[int(w_obs_df.i[0]), int(w_obs_df.j[0])]\n",
    "    at0 = w_obs_df.loc[w_obs_df.kper=='0'].index[0] #2010\n",
    "    at20 = w_obs_df.loc[w_obs_df.kper=='20'].index[0] #2030\n",
    "    at40 = w_obs_df.loc[w_obs_df.kper=='40'].index[0] #2050\n",
    "    at70 = w_obs_df.loc[w_obs_df.kper=='60'].index[0] #2070\n",
    "    at90 = w_obs_df.loc[w_obs_df.kper=='90'].index[0] #2100\n",
    "    at100 = w_obs_df.loc[w_obs_df.kper=='100'].index[0] #2100\n",
    "    \n",
    "    # Posterior sim out\n",
    "    tp_0 = oe_po_tr.loc[:, at0]\n",
    "    tp_20 = oe_po_tr.loc[:, at20]  \n",
    "    tp_40 = oe_po_tr.loc[:, at40]\n",
    "    #tp_60 = oe_po_tr.loc[:, at60]\n",
    "    tp_70 = oe_po_tr.loc[:, at70]\n",
    "    tp_90 = oe_po_tr.loc[:, at90]\n",
    "\n",
    "    tp_d_40 = tp_40 - tp_0\n",
    "    tp_d_20 = tp_20 - tp_0\n",
    "    #tp_d_60 = tp_60 - tp_0\n",
    "    tp_d_70 = tp_70 - tp_0\n",
    "    tp_d_90 = tp_90 - tp_0\n",
    "    \n",
    "    fig, axes = plt.subplots(1,3, figsize=(12,4))\n",
    "    ax = axes[0]\n",
    "    ax.imshow(np.ma.masked_where(m.bas6.ibound.array[0] == 0, ar),\n",
    "               cmap=\"plasma\", interpolation='none')\n",
    "    ax.scatter(*gps.loc[site, ['j', 'i']].values, marker='v', color='r')\n",
    "    ax.scatter(*gps.loc[site, ['j', 'i']].values, marker='o', color='w', fc='none', s=120, lw=2)\n",
    "    \n",
    "    ax = axes[1]\n",
    "    tp_d_90.hist(ax=ax, bins=25, color='r', density=False, label='2100', alpha=0.6)\n",
    "    tp_d_70.hist(ax=ax, bins=25, color='y', density=False, label='2070', alpha=0.8)\n",
    "    tp_d_40.hist(ax=ax, bins=25, color='b', density=False, label='2050', alpha=0.8)\n",
    "    tp_d_20.hist(ax=ax, bins=25, color='grey', density=False, label='2030', alpha=0.8)\n",
    "    #tp_d_70.hist(ax=ax, bins=25, color='k', alpha=0.5, density=False)\n",
    "    ax.set_title(site, fontsize=9)\n",
    "    ax.tick_params(axis='x', labelsize=7)\n",
    "    ax.tick_params(axis='y', labelsize=7)\n",
    "    ax.set_xlabel('gw level change (m)', fontsize=9)\n",
    "    ax.set_ylabel('frequency', fontsize=9)\n",
    "    ys = ax.get_ylim()\n",
    "    ax.plot((0.25,0.25), ys, color='k', ls='--', label='Model top')\n",
    "    ax.plot((0.25,0.25), ys, color='r', ls='--', label='Decision threshold')\n",
    "    legend = ax.legend(loc='best', fontsize=7)\n",
    "                  \n",
    "    ax = axes[2]            \n",
    "    #oe_rcp26.loc[:, w_obs_df.astype({'kper':int}).sort_values('kper').index].T.reset_index().plot(ax=ax, legend=False, color='green', alpha=0.2)\n",
    "    oe_po_tr.loc[:, w_obs_df.astype({'kper':int}).sort_values('kper').index].T.reset_index().plot(ax=ax, legend=False, color='r', alpha=0.2)\n",
    "    #oe_rcp85.loc[:, w_obs_df.astype({'kper':int}).sort_values('kper').index].T.reset_index().plot(ax=ax, legend=False, color='red', alpha=0.2)\n",
    "    ax.tick_params(axis='x', labelsize=7)\n",
    "    ax.tick_params(axis='y', labelsize=7)\n",
    "    ax.set_xlabel('Years from start of projection', fontsize=9)\n",
    "    ax.set_ylabel('gw level (m OMD)', fontsize=9)\n",
    "    ax.set_title(site, fontsize=9)\n",
    "    xs = ax.get_xlim()   \n",
    "    ax.plot(xs, (top,top), color='k', ls='--', label='model top')\n",
    "    ax.set_xlim(0,100)\n",
    "        \n",
    "    #plt.savefig(\"plots/SSP5/SSP5_po_{0}.png\".format(site))"
   ]
  },
  {
   "cell_type": "markdown",
   "id": "7ba7479c-9552-4dd1-8405-57ee61914d37",
   "metadata": {},
   "source": [
    "### Predictions for total drain flux -- over time"
   ]
  },
  {
   "cell_type": "code",
   "execution_count": null,
   "id": "13515b46-19b1-4367-8485-4819e6eb1b26",
   "metadata": {
    "tags": []
   },
   "outputs": [],
   "source": [
    "#get pest obs data\n",
    "obs = pred_pst.observation_data\n",
    "drnsumobs = obs.loc[obs.index.str.startswith('oname:drnsum')] #.astype({c:int for c in ['kper','k','i','j']})\n",
    "# Posterior sim out\n",
    "drnsumoe_df = oe_po_tr.loc[:, drnsumobs.index]\n",
    "drnsumoe_df_pos = drnsumoe_df * -1\n",
    "\n",
    "at_0 = drnsumoe_df.loc[:, 'oname:drnsum_otype:lst_usecol:sum_kper:0']\n",
    "at_20 = drnsumoe_df.loc[:, 'oname:drnsum_otype:lst_usecol:sum_kper:20']\n",
    "at_40 = drnsumoe_df.loc[:, 'oname:drnsum_otype:lst_usecol:sum_kper:40']\n",
    "at_60 = drnsumoe_df.loc[:, 'oname:drnsum_otype:lst_usecol:sum_kper:60']\n",
    "at_90 = drnsumoe_df.loc[:, 'oname:drnsum_otype:lst_usecol:sum_kper:90']\n",
    "\n",
    "drn_0 = at_0 * -1\n",
    "drn_20 = at_20 * -1\n",
    "drn_40 = at_40 * -1\n",
    "drn_60 = at_60 * -1\n",
    "drn_90 = at_90 * -1\n",
    "\n",
    "diff_20 = at_20 - at_0\n",
    "diff_40 = at_40 - at_0\n",
    "diff_60 = at_60 - at_0\n",
    "diff_90 = at_90 - at_0\n",
    "\n",
    "fig, axes = plt.subplots(1,2, figsize=(12,4))\n",
    "\n",
    "ax = axes[0]\n",
    "drnsumoe_df_pos.loc[:, drnsumobs.astype({'kper':int}).sort_values('kper').index].T.reset_index().plot(ax=ax, legend=False, color='red', alpha=0.2)\n",
    "ax.set_title(\"Drain flux versus time\", fontsize=10)\n",
    "ax.tick_params(axis='x', labelsize=10)\n",
    "ax.tick_params(axis='y', labelsize=10)\n",
    "ax.set_xlim(0,100)\n",
    "#ax.set_ylim(-6000, 0)\n",
    "ax.set_xlabel('year of scenario', fontsize=10)\n",
    "ax.set_ylabel('flux m$^3$/day', fontsize=10)\n",
    "\n",
    "ax = axes[1]\n",
    "drn_90.hist(ax=ax, bins=25, color='r', alpha=0.5, density=False, label='2100')\n",
    "drn_60.hist(ax=ax, bins=25, color='y', alpha=0.8, density=False, label='2070')\n",
    "drn_40.hist(ax=ax, bins=25, color='b', alpha=0.8, density=False, label='2050')\n",
    "drn_20.hist(ax=ax, bins=25, color='0.5', alpha=0.9, density=False, label='2030')\n",
    "ax.set_title(\"Drain flux PDF\", fontsize=10)\n",
    "ax.tick_params(axis='x', labelsize=10)\n",
    "ax.tick_params(axis='y', labelsize=10)\n",
    "ax.set_xlabel('flux m$^3$/day', fontsize=10)\n",
    "ax.set_ylabel('frequency', fontsize=10)\n",
    "legend = ax.legend(loc='best', fontsize=10)\n",
    "#plt.savefig(\"plots/SSP5/drain_flux_versus_time.pdf\")\n",
    "#ax.set_ylim(0, 30)"
   ]
  },
  {
   "cell_type": "markdown",
   "id": "b6c2e304-aeac-47e3-8db7-a2fbec1d11e2",
   "metadata": {
    "tags": []
   },
   "source": [
    "__________\n",
    "## Optional save of ensemble output for downstream vis"
   ]
  },
  {
   "cell_type": "code",
   "execution_count": null,
   "id": "4571a545-542a-4392-a822-eaaa25fc2a71",
   "metadata": {
    "tags": []
   },
   "outputs": [],
   "source": [
    "from scripts.utils import extract_hdobs_to_pkl, extract_hdoe_to_pkl\n",
    "hdobs = extract_hdobs_to_pkl(pred_pst)\n",
    "extract_hdoe_to_pkl(oe_po_tr, hdobs, pred_pst)"
   ]
  },
  {
   "cell_type": "code",
   "execution_count": null,
   "id": "8cc9ab0f-da48-4509-b2c2-765dbed1f8e6",
   "metadata": {
    "tags": []
   },
   "outputs": [],
   "source": [
    "viewer_d = Path('..','..','searise_viewer_sd')\n",
    "Path(viewer_d, 'scenarios', scen).mkdir(parents=True, exist_ok=True)\n",
    "shutil.copy(Path(m_d, \"hdoe.pkl\"), Path(viewer_d, 'scenarios', scen))\n",
    "Path(viewer_d, 'model').mkdir(parents=True, exist_ok=True)\n",
    "pred_pst.write(Path(viewer_d, \"model\", Path(pred_pst.filename).name))"
   ]
  }
 ],
 "metadata": {
  "kernelspec": {
   "display_name": "Python 3 (ipykernel)",
   "language": "python",
   "name": "python3"
  },
  "language_info": {
   "codemirror_mode": {
    "name": "ipython",
    "version": 3
   },
   "file_extension": ".py",
   "mimetype": "text/x-python",
   "name": "python",
   "nbconvert_exporter": "python",
   "pygments_lexer": "ipython3",
   "version": "3.11.0"
  }
 },
 "nbformat": 4,
 "nbformat_minor": 5
}
