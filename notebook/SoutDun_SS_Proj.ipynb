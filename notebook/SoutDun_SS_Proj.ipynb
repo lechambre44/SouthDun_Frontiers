{
 "cells": [
  {
   "cell_type": "markdown",
   "id": "fc95af2b-9249-40cd-bd34-128b5b8591bf",
   "metadata": {
    "tags": []
   },
   "source": [
    "# South Dunedin Sea Rise GW inundation workflow\n",
    "0. Model updates\n",
    "1. Setup one PEST interface\n",
    "2. Setup another PEST interface\n",
    "3. Prior Monte Carlo\n",
    "4. Prior-data conflict resolution\n",
    "5. Weight-balancing and objective function focusing\n",
    "6. History matching\n",
    "7. Monte Carlo projection scenario simulation\n",
    "8. Some visualisation and interaction sprinkles"
   ]
  },
  {
   "cell_type": "markdown",
   "id": "ab5ec4fd-b3f7-4c84-835b-1dcadafe5c6d",
   "metadata": {
    "tags": []
   },
   "source": [
    "#### Make some imports"
   ]
  },
  {
   "cell_type": "code",
   "execution_count": null,
   "id": "c8ec2f73-3302-459d-b248-7dee4ebc68e5",
   "metadata": {
    "tags": []
   },
   "outputs": [],
   "source": [
    "%matplotlib widget\n",
    "import os\n",
    "import numpy as np\n",
    "import pandas as pd\n",
    "import matplotlib.pyplot as plt\n",
    "import shutil\n",
    "from pathlib import Path\n",
    "\n",
    "# from scipy import ndimage as nd\n",
    "\n",
    "import flopy\n",
    "print(\"flopy path: {}\".format(flopy.__path__))\n",
    "print(\"flopy version: {}\".format(flopy.__version__))\n",
    "import pyemu"
   ]
  },
  {
   "cell_type": "markdown",
   "id": "314e4c57-084e-4196-b563-3d58e12d76d5",
   "metadata": {
    "tags": []
   },
   "source": [
    "#### also import some external scripts (where most of the work is done!)"
   ]
  },
  {
   "cell_type": "code",
   "execution_count": null,
   "id": "9d1f7307-c76a-46d0-98a2-6ac1112cafac",
   "metadata": {
    "tags": []
   },
   "outputs": [],
   "source": [
    "import sys\n",
    "sys.path.append(\"..\")\n",
    "from scripts import utils\n",
    "from scripts import build"
   ]
  },
  {
   "cell_type": "markdown",
   "id": "672ebdcc-0b34-4d87-8578-52e561d4572a",
   "metadata": {
    "tags": []
   },
   "source": [
    "#### clean up working dir"
   ]
  },
  {
   "cell_type": "code",
   "execution_count": null,
   "id": "8b6c3132-44e1-4acc-a0ac-62f1bdb78d73",
   "metadata": {
    "tags": []
   },
   "outputs": [],
   "source": [
    "_ = [shutil.rmtree(Path(\"..\", d)) for d in [\"Dunedin_Pred_base\", \n",
    "                                            \"Dunedin_SS_base\",\n",
    "                                            \"template_hist_ss\", \n",
    "                                            \"template_proj_101\",\n",
    "                                            \"master\", \n",
    "                                            \"master_hist_prior\",\n",
    "                                            \"master_SSP3_10\"] \n",
    "     if Path(\"..\", d).exists()]"
   ]
  },
  {
   "cell_type": "markdown",
   "id": "22a93ec1",
   "metadata": {
    "tags": []
   },
   "source": [
    "_____________\n",
    "# Steady-State \"history period\" model build\n",
    "The initial step in this notebook reads in the existing MODFLOW-2005 model built using groundwater vistas (Rekker, 2012), and re-builds a MODFLOW-NWT model using the script located `../scripts/build.py`. The 'build_from_orig' function in the build.py script performs this task"
   ]
  },
  {
   "cell_type": "code",
   "execution_count": null,
   "id": "dbec55e6-4c72-4447-b525-706ebcd407ba",
   "metadata": {
    "scrolled": true,
    "tags": []
   },
   "outputs": [],
   "source": [
    "base_m = build.build_from_orig(version='ss', run=True)"
   ]
  },
  {
   "cell_type": "markdown",
   "id": "f1c593ab-9b9d-461e-bff2-e74e8426d747",
   "metadata": {},
   "source": [
    "_______\n",
    "# Transient projection model build\n",
    "This step in the notebook reads in the existing MODFLOW-2005 model built using groundwater vistas (Rekker, 2012), and re-builds a transient MODFLOW-NWT model using the script located `../scripts/build.py`. The 'build_from_orig' function in the build.py script performs this task (`version='pred'`)"
   ]
  },
  {
   "cell_type": "code",
   "execution_count": null,
   "id": "d63582a3-71e6-4350-990e-f21aae434f18",
   "metadata": {
    "scrolled": true,
    "tags": []
   },
   "outputs": [],
   "source": [
    "pred_m = build.build_from_orig(version='pred', run=True)"
   ]
  },
  {
   "cell_type": "markdown",
   "id": "34c4d4ea-2bb9-409a-a112-d82f01720374",
   "metadata": {
    "tags": []
   },
   "source": [
    "## This is a \"city\" -- there are some city features"
   ]
  },
  {
   "cell_type": "code",
   "execution_count": null,
   "id": "3197620e-b7ce-4449-8f6c-3f4fbc93c096",
   "metadata": {
    "tags": []
   },
   "outputs": [],
   "source": [
    "ar = np.zeros((base_m.modelgrid.nrow, base_m.modelgrid.ncol))\n",
    "drndf = pd.DataFrame(base_m.drn.stress_period_data[0])\n",
    "ar[tuple(drndf[['i','j']].values.T)] = 1\n",
    "fig, ax = plt.subplots(1, figsize=(8,6))\n",
    "#cb = ax.imshow(ib1, alpha=0.75, cmap=\"Wistia\", extent=m.sr.get_extent(),\n",
    " #              origin=\"upper\", transform=mprj, zorder=11)\n",
    "mapview = flopy.plot.PlotMapView(model=base_m, ax=ax)\n",
    "c = mapview.plot_array(ar, cmap=\"jet\", ax=ax)\n",
    "mapview.plot_ibound()\n",
    "plt.show()"
   ]
  },
  {
   "cell_type": "markdown",
   "id": "eee69163-7831-4ff3-9f50-ac7efc10780a",
   "metadata": {
    "tags": []
   },
   "source": [
    "## Quick plot of model and water level obs locs"
   ]
  },
  {
   "cell_type": "code",
   "execution_count": null,
   "id": "b4e70f14-a1ac-4c7a-9396-eac4af76e0ad",
   "metadata": {
    "tags": []
   },
   "outputs": [],
   "source": [
    "# ADD OBS/OUTPUTS\n",
    "# prep actualy head observation data \n",
    "obs_locs = pd.read_csv(os.path.join(\"..\", \"obs_locs\", \"Cox_Operational_Targets.dat\"),\n",
    "                   index_col=0,delim_whitespace=True)\n",
    "# loop over dataframe rows, get ij corresponding to well location\n",
    "obs_locs[['i','j']] = obs_locs.apply(lambda x: \n",
    "                                     pd.Series(base_m.modelgrid.intersect(x.Easting, x.Northing)), \n",
    "                                     axis=1).astype(int)\n",
    "obs_locs[\"k\"] = 0 \n",
    "obs_locs[\"sitename\"] = obs_locs.index.map(lambda x: \n",
    "                                        x.replace('(','').replace(')','').replace('_','-'))\n",
    "display(obs_locs)\n",
    "\n",
    "plt.ion()\n",
    "fig, ax = plt.subplots(1, figsize=(8,6))\n",
    "top = np.ma.masked_array(base_m.dis.top.array, base_m.bas6.ibound.array[0]!=1)\n",
    "ax = base_m.dis.top.plot(vmin=top.min(), vmax=top.max(), colorbar=True)\n",
    "_ = ax.scatter(obs_locs.Easting, obs_locs.Northing, color='r', marker='v')"
   ]
  },
  {
   "cell_type": "markdown",
   "id": "527dda48",
   "metadata": {},
   "source": [
    "______________\n",
    "# PEST interface setup -- around history model\n",
    "This notebook makes extensive use of the `PstFrom` functionality in `pyemu` to set up multipliers on parameters (function defined in `build.py` module).\n",
    "\n",
    "Observations are also defined, assigned initial values, and weights based on preliminary assumptions about error.\n"
   ]
  },
  {
   "cell_type": "code",
   "execution_count": null,
   "id": "af33ac9f-2461-43ec-b819-31d5b447cba2",
   "metadata": {
    "scrolled": true,
    "tags": []
   },
   "outputs": [],
   "source": [
    "nreals = 100 # number of realisations in ensemble\n",
    "period = \"hist\"\n",
    "version = \"ss\"\n",
    "# pst, pf = build.setup_pst(base_m, nreals=nreals) # set-up PEST interface"
   ]
  },
  {
   "cell_type": "markdown",
   "id": "e16c9404-81c2-4007-8dd3-e644918b4a37",
   "metadata": {
    "tags": []
   },
   "source": [
    "### Let's do the first bit slowly:"
   ]
  },
  {
   "cell_type": "markdown",
   "id": "e45584fb-3b72-49aa-98f6-73ca1f0f2b90",
   "metadata": {},
   "source": [
    "#### 0. Start with a spatial reference and a variogram construction (used for geostats)"
   ]
  },
  {
   "cell_type": "code",
   "execution_count": null,
   "id": "4d17a5d7-b84a-4191-a2a0-6322cb5737de",
   "metadata": {
    "tags": []
   },
   "outputs": [],
   "source": [
    "sr = pyemu.helpers.SpatialReference(\n",
    "    delr=base_m.modelgrid.delr, delc=base_m.modelgrid.delc, \n",
    "    xll=base_m.modelgrid.xoffset, yll=base_m.modelgrid.yoffset\n",
    ")\n",
    "# define a variagram and geostruct for drain conductance covariance \n",
    "v = pyemu.geostats.ExpVario(contribution=1.0, a=100)"
   ]
  },
  {
   "cell_type": "markdown",
   "id": "1916b1b7-4709-428a-bfeb-34ca8135303a",
   "metadata": {},
   "source": [
    "#### 1. Instantiate PstFrom()"
   ]
  },
  {
   "cell_type": "code",
   "execution_count": null,
   "id": "6bffd0c8-cecf-40fd-9b2d-25c62fd9307f",
   "metadata": {
    "tags": []
   },
   "outputs": [],
   "source": [
    "t_d = f\"template_{period}_{version}\"\n",
    "# Instantiate PstFrom object\n",
    "pf = pyemu.utils.PstFrom(\n",
    "    original_d=base_m.model_ws, \n",
    "    new_d=os.path.join(\"..\", t_d), \n",
    "    spatial_reference=sr,\n",
    "    start_datetime=base_m.start_datetime,\n",
    "    zero_based=False, # the model is 1-based (MODFLOW start counting at 1) \n",
    "    remove_existing=True,\n",
    "                )\n",
    "# get active model domain (just cos it is handy to ave on a two letter variable)\n",
    "ib = base_m.bas6.ibound.array"
   ]
  },
  {
   "cell_type": "markdown",
   "id": "f877019b-f6b6-481c-97df-40623a43f9af",
   "metadata": {},
   "source": [
    "#### 2. Add an example set of parameters"
   ]
  },
  {
   "cell_type": "code",
   "execution_count": null,
   "id": "b9a42e8c-269a-4e41-8637-717b9777a3f7",
   "metadata": {
    "tags": []
   },
   "outputs": [],
   "source": [
    "drn_gs = pyemu.geostats.GeoStruct(variograms=v, transform='log')\n",
    "drn_files = [f for f in os.listdir(pf.new_d) if \"DRN\" in f and \"dat\" in f]"
   ]
  },
  {
   "cell_type": "code",
   "execution_count": null,
   "id": "6b8eaec9-8500-479b-80ee-7416101b3897",
   "metadata": {
    "tags": []
   },
   "outputs": [],
   "source": [
    "pd.read_csv(Path(pf.new_d, drn_files[0]), header=None, delim_whitespace=True)"
   ]
  },
  {
   "cell_type": "code",
   "execution_count": null,
   "id": "66f329d6-d210-4d67-809b-11771fb4bd47",
   "metadata": {
    "tags": []
   },
   "outputs": [],
   "source": [
    "# grid based drain conductance\n",
    "pf.add_parameters(drn_files, \n",
    "                  par_type='grid',  # cell-by-cell \n",
    "                  lower_bound=0.1,  # par ranges define variance\n",
    "                  upper_bound=10.,\n",
    "                  index_cols=[0, 1, 2],  # tabular list-like input for drains so need these\n",
    "                  use_cols=[4],  # column that relates to conductance\n",
    "                  par_name_base='drncond-gr',\n",
    "                  pargp='drncond-gr',\n",
    "                  geostruct=drn_gs\n",
    "                  )"
   ]
  },
  {
   "cell_type": "markdown",
   "id": "7f3027d1-8451-49c1-8422-596064285824",
   "metadata": {},
   "source": [
    "#### 3. Add another set of parameters (on the same MODFLOW par... WAT?!)"
   ]
  },
  {
   "cell_type": "code",
   "execution_count": null,
   "id": "453ce9dd-0e59-4257-9041-3d55dd881c61",
   "metadata": {
    "tags": []
   },
   "outputs": [],
   "source": [
    "# global constant drain conductance\n",
    "pf.add_parameters(drn_files, \n",
    "                  par_type='constant', # 1 additional global par\n",
    "                  lower_bound=0.1, \n",
    "                  upper_bound=10.,\n",
    "                  index_cols=[0,1,2],\n",
    "                  use_cols=[4],\n",
    "                  par_name_base='drncond-cn',\n",
    "                  pargp='dcond-cn'\n",
    "                 )"
   ]
  },
  {
   "cell_type": "markdown",
   "id": "f60f2653-7b4a-497a-90b1-1f6f9a52b9d7",
   "metadata": {},
   "source": [
    "#### 4. Some pars that act on drain elevation"
   ]
  },
  {
   "cell_type": "code",
   "execution_count": null,
   "id": "37e753ff-a497-46f6-b52b-fce4544573dd",
   "metadata": {
    "tags": []
   },
   "outputs": [],
   "source": [
    "v = pyemu.geostats.ExpVario(contribution=1.0,a=100)\n",
    "drnelev_gs = pyemu.geostats.GeoStruct(variograms=v, transform='none')\n",
    "_=pf.add_parameters(drn_files, \n",
    "              par_type='grid', #\n",
    "              par_style='add',\n",
    "              transform='none',\n",
    "              lower_bound=-0.5, \n",
    "              upper_bound=0.5,\n",
    "              index_cols=[0,1,2],\n",
    "              use_cols=[3],\n",
    "              par_name_base='drnelev-gr',\n",
    "              pargp='delev-gr',\n",
    "              geostruct=drnelev_gs\n",
    "             )\n",
    "# constant based drain elevation\n",
    "_=pf.add_parameters(drn_files, \n",
    "                  par_type='constant', # 1 additional global par\n",
    "                  par_style='add',\n",
    "                  transform='none',\n",
    "                  lower_bound=-0.5, \n",
    "                  upper_bound=0.5,\n",
    "                  index_cols=[0,1,2],\n",
    "                  use_cols=[3],\n",
    "                  par_name_base='drnelev-cn',\n",
    "                  pargp='delev-cn'\n",
    "                 )"
   ]
  },
  {
   "cell_type": "markdown",
   "id": "17aea62d-559a-4ba2-a06b-b5fbabe6a89c",
   "metadata": {},
   "source": [
    "#### 5. Paramterise the K array"
   ]
  },
  {
   "cell_type": "code",
   "execution_count": null,
   "id": "a92ff01d-42a8-42d6-8261-6576e2c8506c",
   "metadata": {
    "tags": []
   },
   "outputs": [],
   "source": [
    "# K pars\n",
    "# different variogram for k\n",
    "v = pyemu.geostats.ExpVario(contribution=1.0,a=400)\n",
    "k_gs = pyemu.geostats.GeoStruct(variograms=v, transform='log')\n",
    "# single layer\n",
    "# grid based HK\n",
    "_=pf.add_parameters(\"hk_layer_1.ref\", # array like file\n",
    "                  par_type='grid', \n",
    "                  lower_bound=0.01, \n",
    "                  upper_bound=100.,\n",
    "                  par_name_base='hk-gr',\n",
    "                  pargp='hk-gr',\n",
    "                  geostruct=k_gs,\n",
    "                  zone_array=ib[0]  # zone controls only active cells\n",
    "                 )\n",
    "# constant HK\n",
    "_=pf.add_parameters(\"hk_layer_1.ref\", \n",
    "                  par_type='constant', \n",
    "                  lower_bound=0.01, \n",
    "                  upper_bound=100.,\n",
    "                  par_name_base='hk-cn',\n",
    "                  pargp='hk-cn',\n",
    "                  zone_array=ib[0]\n",
    "                 )"
   ]
  },
  {
   "cell_type": "markdown",
   "id": "782738aa-803f-46dd-a4f6-bd2fcbf2ac92",
   "metadata": {},
   "source": [
    "#### 6. Add some obs"
   ]
  },
  {
   "cell_type": "code",
   "execution_count": null,
   "id": "afed00b7-fae7-4f8c-9564-1c664759a7b0",
   "metadata": {
    "tags": []
   },
   "outputs": [],
   "source": [
    "# add some obs\n",
    "obs_locs.to_csv(os.path.join(pf.new_d, \"Cox_Operational_Targets.dat\"))\n",
    "# convert binary output to nice tabular list file that we can pass to pstfrom\n",
    "hdobsnme, wlobsnme = utils.hds_bin2csv(d=pf.new_d,\n",
    "                                       modelfname=f\"{base_m.name}.nam\")"
   ]
  },
  {
   "cell_type": "code",
   "execution_count": null,
   "id": "272dff6e-944d-4c0c-ba2f-a711fbeba764",
   "metadata": {
    "tags": []
   },
   "outputs": [],
   "source": [
    "hdobsnme, wlobsnme"
   ]
  },
  {
   "cell_type": "code",
   "execution_count": null,
   "id": "5c341291-63e8-4522-8ffc-8f269dbb6f87",
   "metadata": {
    "tags": []
   },
   "outputs": [],
   "source": [
    "pf.add_observations(\n",
    "    wlobsnme, ## \"welobs.csv\"\n",
    "    prefix=\"wl\",\n",
    "    index_cols=[\"sitename\", 'k', 'i', 'j', 'kper'],\n",
    "    use_cols='obsval',\n",
    "    ofile_sep=','\n",
    ")"
   ]
  },
  {
   "cell_type": "markdown",
   "id": "8ca14d0a-e551-4b53-8f1e-93952158dc12",
   "metadata": {},
   "source": [
    "#### 7. Let's add some more -- incl some to just track (predictions?!)"
   ]
  },
  {
   "cell_type": "code",
   "execution_count": null,
   "id": "b10c96aa-576f-414f-882c-8d6a9ce690fa",
   "metadata": {
    "tags": []
   },
   "outputs": [],
   "source": [
    "# add less-than inequality as obs too (only for history model)\n",
    "_=pf.add_observations(\n",
    "    hdobsnme, ## \"hds.csv\"\n",
    "    insfile=\"lthds.csv.ins\",\n",
    "    prefix=\"less_hd\",\n",
    "    index_cols=['k', 'i', 'j', 'kper'],\n",
    "    use_cols='obsval',\n",
    "    ofile_sep=',',\n",
    "    obsgp=\"less_hd\"\n",
    ")\n",
    "\n",
    "# Add this file as outputs to track\n",
    "# can be as array files if we want\n",
    "# pf.add_observations(\"hds_kper0_lay0.csv\",  prefix=\"hd\")\n",
    "# or whole tabulated model output\n",
    "_=pf.add_observations(\n",
    "    hdobsnme, ## \"hds.csv\"\n",
    "    prefix=\"hd\",\n",
    "    index_cols=['k', 'i', 'j', 'kper'],\n",
    "    use_cols='obsval',\n",
    "    ofile_sep=','\n",
    ")"
   ]
  },
  {
   "cell_type": "markdown",
   "id": "8b8e2af1-ec1f-4643-8023-a8a991a02a57",
   "metadata": {},
   "source": [
    "#### 8. We better make sure that that Post-Processing script is run at forward run time"
   ]
  },
  {
   "cell_type": "code",
   "execution_count": null,
   "id": "fe9d6769-afeb-4d8f-b321-8dbd5c9b66cc",
   "metadata": {
    "tags": []
   },
   "outputs": [],
   "source": [
    "# need to add the above function to our forward run script so that\n",
    "# it is also run at model run time\n",
    "pf.add_py_function(\n",
    "    os.path.join('..', 'scripts', \"utils.py\"),\n",
    "    call_str=f\"hds_bin2csv('.', modelfname='{base_m.name}.nam')\",\n",
    "    is_pre_cmd=False\n",
    ")"
   ]
  },
  {
   "cell_type": "markdown",
   "id": "513181c4-c6e7-45d9-b3bf-86e011d39cf5",
   "metadata": {},
   "source": [
    "#### 9. Ok -- lets finish this off!"
   ]
  },
  {
   "cell_type": "code",
   "execution_count": null,
   "id": "35d5d274-6efe-4ac2-b05e-6c3bc12c2d99",
   "metadata": {
    "tags": []
   },
   "outputs": [],
   "source": [
    "pst, pf = build.continue_setup_pst(pf, base_m, nreals=nreals, vis_cov=False)"
   ]
  },
  {
   "cell_type": "markdown",
   "id": "6530b74b-c574-4a3e-b417-de469e59d397",
   "metadata": {
    "tags": []
   },
   "source": [
    "### for fun let's build and view the prior paramter cov:"
   ]
  },
  {
   "cell_type": "code",
   "execution_count": null,
   "id": "cdc50dc0-af9d-4ec1-9bef-c3dffa1b6af8",
   "metadata": {
    "tags": []
   },
   "outputs": [],
   "source": [
    "cov = pf.build_prior().df()\n",
    " # just a trick to sort indexes so that closely located pars in space are close in the covariance matrix \n",
    "x = cov.values.copy()\n",
    "x[x==0.0] = np.NaN"
   ]
  },
  {
   "cell_type": "code",
   "execution_count": null,
   "id": "d358250d-2f04-457d-9c57-4bf9c521f626",
   "metadata": {
    "tags": []
   },
   "outputs": [],
   "source": [
    "fig = plt.figure(figsize=(8, 8), constrained_layout=True)\n",
    "gs = plt.GridSpec(1, 2, width_ratios=[1, 0.01], wspace=0.05, figure=fig)\n",
    "ax = plt.subplot(gs[:, 0])\n",
    "im = ax.imshow(x, interpolation='none')\n",
    "ax.set_facecolor('k')\n",
    "\n",
    "gp = pst.parameter_data.loc[cov.index,:].groupby('pargp')\n",
    "mapper = pd.Series(dict([[v.min(),k] for k,v in gp.indices.items()]))\n",
    "\n",
    "_ = ax.yaxis.set_ticks(mapper.index, mapper.values, rotation=30, fontsize=12)\n",
    "_ = ax.xaxis.set_ticks(mapper.index, mapper.values, rotation=90, fontsize=12)\n",
    "del cov, x"
   ]
  },
  {
   "cell_type": "markdown",
   "id": "1b59c50c-4baa-4bb9-904f-3fd232073cff",
   "metadata": {},
   "source": [
    "# set-up PEST interface for projection model"
   ]
  },
  {
   "cell_type": "code",
   "execution_count": null,
   "id": "92c06a3d-4e73-41b5-b6e6-309b65aa61de",
   "metadata": {
    "scrolled": true,
    "tags": []
   },
   "outputs": [],
   "source": [
    "pred_pst, _ = build.setup_pst(\"Dunedin_Pred_base\", nreals=nreals)"
   ]
  },
  {
   "cell_type": "markdown",
   "id": "024a9404",
   "metadata": {
    "tags": []
   },
   "source": [
    "_________\n",
    "# Prior MC\n",
    "#### using `pestpp-ies`, settting `noptmax=-1` here we run the history period prior Monte Carlo analysis\n",
    "* using the number of realizations specified by `nreals`\n",
    "* will run in parallel locally using the number of cores specified by `num_workers` in `../scripts/build.py`\n",
    "* creates a new directory called `master_hist_prior/` that will contain the PEST++ output from the parallel Monte Carlo\n",
    "* upon running will generate worker directories"
   ]
  },
  {
   "cell_type": "code",
   "execution_count": null,
   "id": "5570c31b",
   "metadata": {
    "tags": []
   },
   "outputs": [],
   "source": [
    "# either use base_m model object as defined above or explicitly pass str:\n",
    "m_d = \"master_hist_prior\"\n",
    "noptmax=-1\n",
    "pst = \"Dunedin_SS_base.pst\"\n",
    "nworkers = 24\n",
    "utils.prep_and_run(pst, t_d=\"template_hist_ss\", m_d=m_d, nreals=nreals, \n",
    "                   noptmax=noptmax, nworker=nworkers)"
   ]
  },
  {
   "cell_type": "markdown",
   "id": "476b2e04-6eaa-4dc8-9f46-c504dc7a77a7",
   "metadata": {},
   "source": [
    "## Load prior simulated output ensemble"
   ]
  },
  {
   "cell_type": "code",
   "execution_count": null,
   "id": "10deed3b",
   "metadata": {
    "tags": []
   },
   "outputs": [],
   "source": [
    "# read modflow model\n",
    "m_d = \"master_hist_prior\"\n",
    "m_d =os.path.join(\"..\", m_d)\n",
    "m = flopy.modflow.Modflow.load(\n",
    "    f=\"SouthDun_SS.nam\", \n",
    "    model_ws=m_d, \n",
    "    version='mfnwt',\n",
    "    exe_name='mfnwt.exe', \n",
    "    verbose=False, \n",
    "    check=True\n",
    ")\n",
    "# PROCESS SWEEP OUTPUTS From Prior MC\n",
    "# re-read pst control file from master dir\n",
    "try:\n",
    "    pst.filename = Path(pst.filename)\n",
    "    pst = pyemu.Pst(os.path.join(m_d, pst.filename.name))\n",
    "except (AttributeError, NameError):\n",
    "    pst = \"Dunedin_SS_base.pst\"\n",
    "    pst = pyemu.Pst(os.path.join(m_d, pst))\n",
    "# get pest obs data from pest control file object\n",
    "obs = pst.observation_data\n",
    "\n",
    "# pulling pest file name from pst object\n",
    "pstfnme = Path(pst.filename)\n",
    "# show initial phi componenets\n",
    "print(\"Group phi components from base model run\")\n",
    "display(pd.DataFrame.from_dict(pst.phi_components, orient='index'))\n",
    "# re ensemble outputs\n",
    "oe_pr = utils.try_load_ensemble(pst, os.path.join(m_d, f\"{pstfnme.stem}.0.obs.csv\"), kind='obs')\n",
    "# read obs + noise ensemble (IES drew this from obs weights when we ran prior)\n",
    "# revist weight on water level obs\n",
    "nnzobs = obs.loc[pst.nnz_obs_names]\n",
    "wlobs = nnzobs.loc[nnzobs.oname==\"wl\"].index"
   ]
  },
  {
   "cell_type": "markdown",
   "id": "46a4f8a8",
   "metadata": {},
   "source": [
    "### Let's look at mapping prior probability of inundation"
   ]
  },
  {
   "cell_type": "code",
   "execution_count": null,
   "id": "1b3a239b",
   "metadata": {
    "tags": []
   },
   "outputs": [],
   "source": [
    "hdobs = obs.loc[obs.oname == \"hd\"].astype({c: int for c in ['kper', 'k', 'i', 'j']})\n",
    "hdobs['top'] = m.dis.top.array[tuple(hdobs[['i', 'j']].T.values)]\n",
    "hdvtop = oe_pr.T.loc[hdobs.index].sub(hdobs.top, axis=0)\n",
    "# calc probabilities of exceed for every output\n",
    "# Transpose obs ensemble (ensemble outputs), slice for just hd obs,\n",
    "# substract model top from every realisation,\n",
    "# where positive simulated head exceeds model top, count reals where positive, divide by nreal\n",
    "hdobs['prob'] = (hdvtop > 0).sum(axis=1) / oe_pr.shape[0]\n",
    "\n",
    "# create an array from these obs -- WILL NEED TO BE DIF IF MULTPLE KPER AND LAYERS\n",
    "ar_prior = np.zeros((m.nrow, m.ncol))  # blank array\n",
    "\n",
    "# add elements from dataframe\n",
    "ar_prior[tuple(hdobs[['i', 'j']].T.values)] = hdobs.prob\n",
    "\n",
    "fig, ax = plt.subplots(1, 1, figsize=(6, 6))\n",
    "im = ax.imshow(np.ma.masked_where(m.bas6.ibound.array[0] == 0, ar_prior * 100),\n",
    "               cmap=\"plasma\", interpolation='none')\n",
    "ax.set_title('Prior probability of groundwater inundation', fontsize='12')\n",
    "fig.colorbar(im)\n",
    "fig.tight_layout()"
   ]
  },
  {
   "cell_type": "markdown",
   "id": "9b4b79d1",
   "metadata": {},
   "source": [
    "### Prior total drain flux sim out -versus- the estimated observation + error"
   ]
  },
  {
   "cell_type": "code",
   "execution_count": null,
   "id": "d42a5f8b",
   "metadata": {
    "tags": []
   },
   "outputs": [],
   "source": [
    "# Plotting ensemble output histograms\n",
    "#load obs+noise ensemble\n",
    "obsplus = utils.try_load_ensemble(pst, os.path.join(m_d, f\"{pstfnme.stem}.obs+noise.csv\"), kind='obs')\n",
    "# just slice out drain obs\n",
    "drnsumobs = obs.loc[obs.oname==\"drnsum\"]#.astype({c:int for c in ['kper','k','i','j']})\n",
    "# Prior sim out of drain sum ob\n",
    "drnsumoe_pr = oe_pr.loc[:, drnsumobs.index]\n",
    "# obs plus noise for output \n",
    "dnobsplus = obsplus.loc[:, drnsumobs.index]\n",
    "# plot histos\n",
    "fig, ax = plt.subplots(1,1, figsize=(8,6))\n",
    "_ = drnsumoe_pr.hist(ax=ax, bins=25, color='0.5', alpha=0.5, density=False)\n",
    "_ = dnobsplus.hist(ax=ax, bins=25, color='r', alpha=0.5, density=False)\n",
    "ax.set_title(label='Storm / wastewater flux (prior -vs- obs)', fontsize=7)\n",
    "ax.tick_params(axis='x', labelsize=7)\n",
    "ax.tick_params(axis='y', labelsize=7)\n",
    "ax.set_xlabel('Flux m$^3$/day', fontsize=7)\n",
    "ax.set_ylabel('Num. reals', fontsize=7)"
   ]
  },
  {
   "cell_type": "markdown",
   "id": "d1858d4d",
   "metadata": {},
   "source": [
    "### Prior groundwater level sim out -versus- all water level observations + the estimated error"
   ]
  },
  {
   "cell_type": "code",
   "execution_count": null,
   "id": "27c3c7d9-9fbe-4898-aa16-970f7eee0d46",
   "metadata": {
    "tags": []
   },
   "outputs": [],
   "source": [
    "# Prior simulatout outputs for WL obs vs obs+noise reals\n",
    "w_obs = obs.loc[obs.index.str.contains('sitename') & (obs.weight>0)].astype({'i':int, 'j':int})\n",
    "\n",
    "for ob in w_obs.index:\n",
    "    top = m.dis.top.array[(w_obs.loc[ob].i, w_obs.loc[ob].j)]\n",
    "    # Prior sim out\n",
    "    tp_pr = oe_pr.loc[:, ob]\n",
    "    # OBS \n",
    "    # obsplus = pd.read_csv(os.path.join(m_d, \"Dunedin_SS_base.obs+noise.csv\"), index_col=0)\n",
    "    tpobsplus = obsplus.loc[:, ob]\n",
    "    \n",
    "    fig, axes = plt.subplots(1,2, figsize=(10,5))\n",
    "    ax = axes[0]\n",
    "    ax2 = axes[1]\n",
    "    ax2.imshow(np.ma.masked_where(m.bas6.ibound.array[0] == 0, ar_prior * 100),\n",
    "               cmap=\"plasma\", interpolation='none')\n",
    "    ax2.scatter(*w_obs.loc[ob, ['j', 'i']].values, marker='v', color='r')\n",
    "    ax2.scatter(*w_obs.loc[ob, ['j', 'i']].values, marker='o', color='w', fc='none', s=120, lw=2)\n",
    "    tp_pr.hist(ax=ax, bins=25, color='0.5', alpha=0.5, density=False)\n",
    "    tpobsplus.hist(ax=ax, bins=25, color='r', alpha=0.5, density=False)\n",
    "    ys = ax.get_ylim()\n",
    "    ax.plot((top, top), ys, color='k', ls='--')\n",
    "    ax.set_title(ob, fontsize=6)\n",
    "    ax.tick_params(axis='x', labelsize=7)\n",
    "    ax.tick_params(axis='y', labelsize=7)\n",
    "    ax.set_xlabel('Groundwater level m (OMD)', fontsize=7)\n",
    "    ax.set_ylabel('Num. reals', fontsize=7)"
   ]
  },
  {
   "cell_type": "markdown",
   "id": "2fc8c64b",
   "metadata": {},
   "source": [
    "### Refine weights \n",
    "#### de-weight groundwater level observations located in e.g., the perched dune aquifer system (before history matching)"
   ]
  },
  {
   "cell_type": "code",
   "execution_count": null,
   "id": "9b319a20",
   "metadata": {
    "tags": []
   },
   "outputs": [],
   "source": [
    "# first increase variance on highly uncertain drain obs estimate\n",
    "obs.loc[drnsumobs.index, 'weight'] = 1/500\n",
    "# drop moana rua shallow\n",
    "mrs = w_obs.loc[w_obs.sitename=='moana-rua-shallow'] \n",
    "obs.loc[mrs.index, 'weight'] = 0\n",
    "# drop Tonga Park deep\n",
    "tpd = w_obs.loc[w_obs.sitename=='tonga-park-deep'] \n",
    "obs.loc[tpd.index, 'weight'] = 0\n",
    "# reweight fitzroy street\n",
    "ftz = w_obs.loc[w_obs.sitename=='fitzroy-st'] \n",
    "obs.loc[ftz.index, 'weight'] = 0\n",
    "# reweight Turukina Rd\n",
    "trd = w_obs.loc[w_obs.sitename=='turakina-rd'] \n",
    "obs.loc[trd.index, 'weight'] = 0\n",
    "# reweight Scout hall shallow\n",
    "shs = w_obs.loc[w_obs.sitename=='scout-hall-shallow'] \n",
    "obs.loc[shs.index, 'weight'] = 0\n",
    "# reweight OMES\n",
    "oms = w_obs.loc[w_obs.sitename=='omes'] \n",
    "obs.loc[oms.index, 'weight'] = 0\n",
    "# reweight holiday-park\n",
    "hyd = w_obs.loc[w_obs.sitename=='holiday-park'] \n",
    "obs.loc[hyd.index, 'weight'] = 0\n",
    "# reweight Richardson\n",
    "ric = w_obs.loc[w_obs.sitename=='richardson-st'] \n",
    "obs.loc[ric.index, 'weight'] = 0\n",
    "# reweight ravelston\n",
    "rav = w_obs.loc[w_obs.sitename=='ravelston'] \n",
    "obs.loc[rav.index, 'weight'] = 0\n",
    "# reweight forbury\n",
    "fby = w_obs.loc[w_obs.sitename=='forbury-park-raceway'] \n",
    "obs.loc[fby.index, 'weight'] = 0"
   ]
  },
  {
   "cell_type": "markdown",
   "id": "045f816b-e044-4f78-92da-425e023c5f91",
   "metadata": {},
   "source": [
    "#### Draw realisations of observation plus noise (based on observation weights)"
   ]
  },
  {
   "cell_type": "code",
   "execution_count": null,
   "id": "305d1db4",
   "metadata": {
    "tags": []
   },
   "outputs": [],
   "source": [
    "# redraw obs plus noise\n",
    "obsplus = pyemu.ObservationEnsemble.from_gaussian_draw(\n",
    "    pst, num_reals=nreals, fill=True)\n",
    "obsplus.add_base()\n",
    "obsplus = obsplus._df\n",
    "# force drawn obs reals for drain to be < -500\n",
    "dnobsplus = obsplus.loc[:, drnsumobs.index]\n",
    "dnobsplus[dnobsplus > 0] = 0\n",
    "obsplus.loc[:, drnsumobs.index] = dnobsplus\n",
    "# for fun plot drain prior with obs+noise reals\n",
    "fig, ax = plt.subplots(1,1, figsize=(6,4))\n",
    "_ = drnsumoe_pr.hist(ax=ax, bins=25, color='0.5', alpha=0.5, density=False)\n",
    "_ = obsplus.loc[:, drnsumobs.index].hist(\n",
    "    ax=ax, bins=25, color='r', alpha=0.5, density=False)\n",
    "ax.set_title(label='Storm / wastewater flux (prior -vs- obs)', fontsize=7)\n",
    "ax.tick_params(axis='x', labelsize=7)\n",
    "ax.tick_params(axis='y', labelsize=7)\n",
    "ax.set_xlabel('Flux m$^3$/day', fontsize=7)\n",
    "ax.set_ylabel('Num. reals', fontsize=7)\n",
    "\n",
    "# similarly clip drawn wl noise obs to below model surface\n",
    "w_obs['top'] = m.dis.top.array[tuple(w_obs[['i','j']].values.T)]\n",
    "wlobsplus = obsplus.loc[:, w_obs.index]\n",
    "wlobsplus = wlobsplus.where(~wlobsplus.gt(w_obs.top), w_obs.top, axis=1)\n",
    "obsplus.loc[:, w_obs.index] = wlobsplus\n",
    "# for ob in w_obs.index:\n",
    "#     top = m.dis.top.array[(w_obs.loc[ob].i, w_obs.loc[ob].j)]\n",
    "#     # Prior sim out\n",
    "#     tp_pr = oe_pr.loc[:, ob]\n",
    "#     # OBS \n",
    "#     # obsplus = pd.read_csv(os.path.join(m_d, \"Dunedin_SS_base.obs+noise.csv\"), index_col=0)\n",
    "#     tpobsplus = obsplus.loc[:, ob]\n",
    "    \n",
    "#     fig, axes = plt.subplots(1,2, figsize=(10,5))\n",
    "#     ax = axes[0]\n",
    "#     ax2 = axes[1]\n",
    "#     ax2.imshow(np.ma.masked_where(m.bas6.ibound.array[0] == 0, ar_prior * 100),\n",
    "#                cmap=\"plasma\", interpolation='none')\n",
    "#     ax2.scatter(*w_obs.loc[ob, ['j', 'i']].values, marker='v', color='r')\n",
    "#     ax2.scatter(*w_obs.loc[ob, ['j', 'i']].values, marker='o', color='w', fc='none', s=120, lw=2)\n",
    "#     tp_pr.hist(ax=ax, bins=25, color='0.5', alpha=0.5, density=False)\n",
    "#     tpobsplus.hist(ax=ax, bins=25, color='r', alpha=0.5, density=False)\n",
    "#     ys = ax.get_ylim()\n",
    "#     ax.plot((top, top), ys, color='k', ls='--')\n",
    "#     ax.set_title(ob, fontsize=6)\n",
    "#     ax.tick_params(axis='x', labelsize=7)\n",
    "#     ax.tick_params(axis='y', labelsize=7)\n",
    "#     ax.set_xlabel('Groundwater level m (OMD)', fontsize=7)\n",
    "#     ax.set_ylabel('Num. reals', fontsize=7)"
   ]
  },
  {
   "cell_type": "markdown",
   "id": "90371778",
   "metadata": {},
   "source": [
    "### Balance objective function -- focus on water level obs"
   ]
  },
  {
   "cell_type": "code",
   "execution_count": null,
   "id": "543f4c22-4811-4e19-ab86-2e778c3cbbad",
   "metadata": {
    "tags": []
   },
   "outputs": [],
   "source": [
    "# pdc work\n",
    "nnzobs = obs.loc[pst.nnz_obs_names]\n",
    "# set less_than obsplus to be equal to obs val (as we are determining them to be model top always)\n",
    "lessthanobs = nnzobs.loc[nnzobs.obgnme.str.startswith('less_')]\n",
    "# modify obs+noise to remove noise from less than obs\n",
    "obsplus.loc[:, lessthanobs.index] = lessthanobs.obsval.values\n",
    "#display(obsplus.loc[:, lessthanobs.index].head())\n",
    "# write modified obs+noise ensemble to prior master and template\n",
    "# pass back to an obsensemble object\n",
    "obsplus = pyemu.ObservationEnsemble(pst, obsplus)\n",
    "obsplus.to_binary(os.path.join(m_d, \"Dunedin_SS_base_rw.obs+noise.jcb\"))\n",
    "obsplus.to_binary(os.path.join(\"..\", \"template_hist_ss\", \"Dunedin_SS_base_rw.obs+noise.jcb\"))\n",
    "\n",
    "# min mean and max of simulated outputs (used to determine conflicts)\n",
    "nnzobs['minout'] = oe_pr.loc[:, nnzobs.index].min()\n",
    "nnzobs['meanout'] = oe_pr.loc[:, nnzobs.index].mean()\n",
    "nnzobs['maxout'] = oe_pr.loc[:, nnzobs.index].max()\n",
    "\n",
    "# min mean and max of obs+noise reals (used to determine conflicts)\n",
    "nnzobs['obsmin'] = obsplus.loc[:, nnzobs.index].min()\n",
    "nnzobs['obsmean'] = obsplus.loc[:, nnzobs.index].mean()\n",
    "nnzobs['obsmax'] = obsplus.loc[:, nnzobs.index].max()\n",
    "\n",
    "# need to treat less than obs and normal obs a bit different\n",
    "lessthanobs = nnzobs.loc[lessthanobs.index] # only conflict where simmin>obsmax\n",
    "normalobs = nnzobs.loc[nnzobs.index.difference(lessthanobs.index)] # also conflict where simmax<obsmin\n",
    "\n",
    "# pull out conflicting obs\n",
    "conflict_obs = pd.concat(\n",
    "    [normalobs.loc[normalobs.minout > normalobs.obsmax,:],\n",
    "     normalobs.loc[normalobs.maxout < normalobs.obsmin,:],\n",
    "     lessthanobs.loc[lessthanobs.minout > lessthanobs.obsmax,:]]\n",
    ")\n",
    "display(conflict_obs)\n",
    "#display(conflict_obs.groupby('obgnme').count())\n",
    "#display(obs.loc[conflict_obs.index, ['weight']])\n",
    "\n",
    "# set weight of conflicting obs to zero\n",
    "obs.loc[conflict_obs.index, 'weight'] = 0\n",
    "#display(obs.loc[conflict_obs.index, ['weight']])\n",
    "pst.observation_data = obs\n",
    "obsplus=obsplus._df"
   ]
  },
  {
   "cell_type": "code",
   "execution_count": null,
   "id": "1ca7e493-1de2-42e2-b586-ec664a2b5eda",
   "metadata": {
    "tags": []
   },
   "outputs": [],
   "source": [
    "# Balancing weights\n",
    "# Get mean residual\n",
    "# first make sure obplus and oe are alignable\n",
    "obsplus.index = obsplus.index.astype(str)\n",
    "\n",
    "# actual residual\n",
    "res = oe_pr.sub(obsplus)\n",
    "# reset gt and lt obs that satisfy inequality\n",
    "ltobs = obs.loc[obs.obgnme.str.startswith('less_')]\n",
    "# ltobs where res is < 0\n",
    "res.loc[:, ltobs.index] = res.loc[:, ltobs.index].clip(0, None)\n",
    "obs['swr'] = obs.weight * res.mean()**2\n",
    "# initial phi contribs for groups\n",
    "phi_comps = obs.loc[pst.nnz_obs_names].groupby('obgnme')[['swr']].sum()\n",
    "\n",
    "maxgpcont = phi_comps.max()['swr']\n",
    "phi_comps['desired'] = maxgpcont\n",
    "# reduce relative on inequality and drain\n",
    "phi_comps.loc[phi_comps.index == \"less_hd\", 'desired'] *= 3.\n",
    "phi_comps.loc[phi_comps.index == \"oname:drnsum_otype:lst_usecol:sum\", 'desired'] *= 1.0e-1\n",
    "display(phi_comps)\n",
    "\n",
    "# calculate weight multiplier for each group\n",
    "wgtmul = (phi_comps.desired/phi_comps.swr)\n",
    "wgtmul"
   ]
  },
  {
   "cell_type": "code",
   "execution_count": null,
   "id": "e7249a99-b399-4bcc-a9e2-080475356990",
   "metadata": {
    "tags": []
   },
   "outputs": [],
   "source": [
    "# apply mult to obs weights\n",
    "obs.loc[pst.nnz_obs_names, 'weight'] *= \\\n",
    "    wgtmul.loc[obs.loc[pst.nnz_obs_names, 'obgnme']].values"
   ]
  },
  {
   "cell_type": "markdown",
   "id": "1bf5b205",
   "metadata": {},
   "source": [
    "#### Prep for history matching"
   ]
  },
  {
   "cell_type": "code",
   "execution_count": null,
   "id": "feba18d7",
   "metadata": {
    "tags": []
   },
   "outputs": [],
   "source": [
    "pst.pestpp_options[\"ies_obs_en\"] = \"Dunedin_SS_base_rw.obs+noise.jcb\"\n",
    "pst.pestpp_options[\"ies_restart_observation_ensemble\"] = \"Dunedin_SS_base_rw.0.obs.jcb\"\n",
    "pst.pestpp_options[\"ies_par_en\"] = \"Dunedin_SS_base.0.par.jcb\"\n",
    "pst.pestpp_options[\"ies_subset_size\"] = int(0.1 * nreals)\n",
    "# 10% of nreals (later version of PESTPP can just use -10)\n",
    "# save update pst control file (in master prior for now)\n",
    "if os.path.exists(\n",
    "        os.path.join(\"..\", \"template_hist_ss\", \"Dunedin_SS_base.pst.bckup\")\n",
    "):\n",
    "    shutil.copy(os.path.join(\"..\", \"template_hist_ss\", \"Dunedin_SS_base.pst.bckup\"),\n",
    "                os.path.join(\"..\", \"template_hist_ss\", \"Dunedin_SS_base.pst\"))\n",
    "else:\n",
    "    shutil.copy(os.path.join(\"..\", \"template_hist_ss\", \"Dunedin_SS_base.pst\"),\n",
    "                os.path.join(\"..\", \"template_hist_ss\", \"Dunedin_SS_base.pst.bckup\"))\n",
    "pst.write(os.path.join(m_d, \"Dunedin_SS_base_rw.pst\"), version=2)\n",
    "pst.write(os.path.join(\"..\", \"template_hist_ss\", \"Dunedin_SS_base.pst\"), version=2)\n",
    "# copy files that we need in template\n",
    "shutil.copy(os.path.join(m_d, \"Dunedin_SS_base.0.obs.jcb\"),\n",
    "            os.path.join(\"..\", \"template_hist_ss\", \"Dunedin_SS_base_rw.0.obs.jcb\"))\n",
    "shutil.copy(os.path.join(m_d, \"Dunedin_SS_base.0.par.jcb\"),\n",
    "            os.path.join(\"..\", \"template_hist_ss\", \"Dunedin_SS_base.0.par.jcb\"))"
   ]
  },
  {
   "cell_type": "markdown",
   "id": "8615aee4-6317-46e6-bb96-bb352b095394",
   "metadata": {},
   "source": [
    "___________________\n",
    "# History matching\n",
    "#### using `pestpp-ies`, settting `noptmax` here we history match to gw levels obs, total drain flux and inequality constraints\n",
    "* using the number of realizations specified by `nreals`\n",
    "* will run in parallel locally using the number of cores specified by `num_workers` in `../scripts/build.py`\n",
    "* creates a new directory called `master/` that will contain the PEST++ output from each iteration of history matching\n",
    "* upon running will generate worker directories"
   ]
  },
  {
   "cell_type": "code",
   "execution_count": null,
   "id": "e90d0387",
   "metadata": {
    "tags": []
   },
   "outputs": [],
   "source": [
    "# either use base_m model object as defined above or explicitly pass str:\n",
    "noptmax=32 # number of pestpp-ies iterations\n",
    "num_workers = 50 # number of parallel runs\n",
    "pstfile = \"Dunedin_SS_base.pst\" # pst control file\n",
    "utils.prep_and_run(pstfile, t_d=\"template_hist_ss\", \n",
    "                   nreals=nreals, noptmax=noptmax, nworker=num_workers)"
   ]
  },
  {
   "cell_type": "code",
   "execution_count": null,
   "id": "7c043927-7e01-4af2-be4c-93f04f64ac3e",
   "metadata": {
    "tags": []
   },
   "outputs": [],
   "source": [
    "phiprog_act = pd.read_csv(Path(m_d, \"Dunedin_ss_base.phi.actual.csv\"), index_col=0)\n",
    "phiprog_meas = pd.read_csv(Path(m_d, \"Dunedin_ss_base.phi.meas.csv\"), index_col=0)\n",
    "fig, ax = plt.subplots(1, figsize=(8,6))\n",
    "# phiprog_act.drop(['total_runs', 'mean', 'standard_deviation', 'min', 'max'], axis=1).T.transform(np.log10).boxplot(ax=ax)\n",
    "phiprog_meas.drop(['total_runs', 'mean', 'standard_deviation', 'min', 'max'], axis=1).T.transform(np.log10).boxplot(ax=ax)"
   ]
  },
  {
   "cell_type": "markdown",
   "id": "4d8e1a5f",
   "metadata": {},
   "source": [
    "# Process the posterior for history period\n",
    "#### Let's plot the posterior probability of groundwater inundation"
   ]
  },
  {
   "cell_type": "code",
   "execution_count": null,
   "id": "40254835",
   "metadata": {
    "tags": []
   },
   "outputs": [],
   "source": [
    "# new master directory\n",
    "m_d = os.path.join(\"..\", \"master\")\n",
    "\n",
    "# pestpp-ies iteration\n",
    "it = 14 # noptmax\n",
    "\n",
    "# load posterior ensemble\n",
    "oe_po = utils.try_load_ensemble(pst, os.path.join(m_d, f\"Dunedin_SS_base.{it}.obs.jcb\"), 'obs')\n",
    "\n",
    "# get pest obs data\n",
    "obs = pst.observation_data\n",
    "\n",
    "# just hd outputs\n",
    "hdobs = obs.loc[obs.obgnme == \"oname:hd_otype:lst_usecol:obsval\"].astype({c:int for c in ['kper','k','i','j']})\n",
    "\n",
    "# add column that aligns model top info to hd output names\n",
    "hdobs['top'] = m.dis.top.array[tuple(hdobs[['i','j']].T.values)]\n",
    "\n",
    "# calc probabilities of exceed for every output\n",
    "# Transpose obs ensemble (ensemble outputs), slice for just hd obs, \n",
    "# substract model top from every realisation,\n",
    "# where positive simulated head exceeds model top, count reals where positive, divide by nreal\n",
    "hdobs['prob'] = (oe_po.T.loc[hdobs.index].sub(hdobs.top, axis=0) > 0).sum(axis=1)/oe_po.shape[0]\n",
    "\n",
    "# create an array from these obs -- WILL NEED TO BE DIF IF MULTPLE KPER AND LAYERS\n",
    "ar_post = np.zeros((m.nrow, m.ncol)) # blank array\n",
    "\n",
    "# add elements from dataframe\n",
    "ar_post[tuple(hdobs[['i','j']].T.values)] = hdobs.prob\n",
    "\n",
    "fig = plt.figure(figsize=(8,4))\n",
    "pgrid = plt.GridSpec(1, 3, width_ratios=[1,1,0.1], figure=fig)\n",
    "ax=plt.subplot(pgrid[0])\n",
    "ax2=plt.subplot(pgrid[1])\n",
    "cax=plt.subplot(pgrid[2])\n",
    "im = ax.imshow(np.ma.masked_where(m.bas6.ibound.array[0] == 0, ar_prior),\n",
    "               cmap=\"plasma\", interpolation='none')\n",
    "ax.set_title('Prior P(GW_inundation)', fontsize='12')\n",
    "im2 = ax2.imshow(np.ma.masked_where(m.bas6.ibound.array[0] == 0, ar_post),\n",
    "               cmap=\"plasma\", interpolation='none')\n",
    "ax2.set_title('Post P(GW_inundation)', fontsize='12')\n",
    "fig.colorbar(im2, cax=cax)\n",
    "plt.show()"
   ]
  },
  {
   "cell_type": "markdown",
   "id": "c46e7ca9",
   "metadata": {},
   "source": [
    "#### We plot the prior versus posterior drain flux distributions"
   ]
  },
  {
   "cell_type": "code",
   "execution_count": null,
   "id": "aa4d1b18",
   "metadata": {
    "tags": []
   },
   "outputs": [],
   "source": [
    "drnsumobs = obs.loc[obs.index.str.startswith('oname:drnsum')]#.astype({c:int for c in ['kper','k','i','j']})\n",
    "# Prior sim out\n",
    "drnsumoe_pr = oe_pr.loc[:, drnsumobs.index]\n",
    "# Posterior sim out\n",
    "drnsumoe_po = oe_po.loc[:, drnsumobs.index]\n",
    "\n",
    "# OBS\n",
    "obsplus = pyemu.ObservationEnsemble.from_binary(\n",
    "    pst, os.path.join(m_d, \"Dunedin_SS_base_rw.obs+noise.jcb\"))\n",
    "# obsplus = pd.read_csv(os.path.join(m_d, \"Dunedin_SS_base.obs+noise.csv\"), \n",
    "#                       index_col=0)\n",
    "dnobsplus = obsplus.loc[:, drnsumobs.index]\n",
    "\n",
    "fig, ax = plt.subplots(1,1, figsize=(6,4))\n",
    "drnsumoe_pr.hist(ax=ax, bins=25, color='0.5', alpha=0.5, density=False)\n",
    "drnsumoe_po.hist(ax=ax, bins=25, color='b', alpha=0.5, density=False)\n",
    "dnobsplus.hist(ax=ax, bins=25, color='r', alpha=0.5, density=False)\n",
    "ax.set_title(label='Storm / wastewater flux (prior -vs- post. -vs- obs)', fontsize=7)\n",
    "ax.tick_params(axis='x', labelsize=7)\n",
    "ax.tick_params(axis='y', labelsize=7)\n",
    "ax.set_xlabel('Flux m$^3$/day', fontsize=7)\n",
    "ax.set_ylabel('Num. reals', fontsize=7)\n",
    "ax.set_xlim(-6000, 1000)\n",
    "#ax.set_ylim(0, 50)\n",
    "#plt.savefig(\"plots/prior_drn_flux\")"
   ]
  },
  {
   "cell_type": "markdown",
   "id": "f7ddb377",
   "metadata": {},
   "source": [
    "#### Prior versus posterior ensemble outputs for the gw level observation locations"
   ]
  },
  {
   "cell_type": "code",
   "execution_count": null,
   "id": "f192c68d",
   "metadata": {
    "tags": []
   },
   "outputs": [],
   "source": [
    "w_obs = obs.loc[\n",
    "    obs.index.str.contains('sitename') & (obs.kper=='0')\n",
    "].astype({'i':int, 'j':int})\n",
    "\n",
    "m.dis.top.array[(w_obs.loc[ob].i, w_obs.loc[ob].j)]\n",
    "\n",
    "for ob in w_obs.index:\n",
    "    top = m.dis.top.array[(w_obs.loc[ob].i, w_obs.loc[ob].j)]\n",
    "    # Prior sim out\n",
    "    tp_pr = oe_pr.loc[:, ob]\n",
    "    # Posterior sim out\n",
    "    tp_po = oe_po.loc[:, ob]\n",
    "    # OBS \n",
    "    # obsplus = pd.read_csv(os.path.join(m_d, \"Dunedin_SS_base.obs+noise.csv\"), index_col=0)\n",
    "    tpobsplus = obsplus.loc[:, ob]\n",
    "    \n",
    "    fig, axes = plt.subplots(1,2, figsize=(10,5))\n",
    "    ax = axes[0]\n",
    "    ax2 = axes[1]\n",
    "    ax2.imshow(np.ma.masked_where(m.bas6.ibound.array[0] == 0, ar_post * 100),\n",
    "               cmap=\"plasma\", interpolation='none')\n",
    "    ax2.scatter(*w_obs.loc[ob, ['j', 'i']].values, marker='v', color='r')\n",
    "    ax2.scatter(*w_obs.loc[ob, ['j', 'i']].values, marker='o', color='w', fc='none', s=120, lw=2)\n",
    "    tp_pr.hist(ax=ax, bins=25, color='0.5', alpha=0.5, density=False)\n",
    "    tp_po.hist(ax=ax, bins=25, color='b', alpha=0.5, density=False)\n",
    "    tpobsplus.hist(ax=ax, bins=25, color='r', alpha=0.5, density=False)\n",
    "    ys = ax.get_ylim()\n",
    "    ax.plot((top, top), ys, c='k', ls='--')\n",
    "    ax.plot((w_obs.loc[ob, 'obsval'], w_obs.loc[ob, 'obsval']), ys, c='r', ls='--')\n",
    "    ax.set_title(ob, fontsize=8)\n",
    "    #ax.set_title(label='Storm / wastewater flux (prior -vs- obs)', fontsize=7)\n",
    "    ax.tick_params(axis='x', labelsize=7)\n",
    "    ax.tick_params(axis='y', labelsize=7)\n",
    "    #ax.set_xlim(98, 103)\n",
    "    ax.set_xlabel('groundwater level m (OMD)', fontsize=7)\n",
    "    ax.set_ylabel('Num. reals', fontsize=7)"
   ]
  },
  {
   "cell_type": "markdown",
   "id": "42edb2b9",
   "metadata": {},
   "source": [
    "#### % reduction in uncertainty for the groundwater level prediction (for the history matching period)"
   ]
  },
  {
   "cell_type": "code",
   "execution_count": null,
   "id": "a01454db-df1b-48c9-9a64-45bcb947a578",
   "metadata": {
    "tags": []
   },
   "outputs": [],
   "source": [
    "# re ensemble outputs\n",
    "#load obs po ensemble using Brioch's try_load_ensemble function\n",
    "obs_ens_po = utils.try_load_ensemble(pst, os.path.join(m_d, f\"Dunedin_SS_base.{it}.obs.jcb\"), kind='obs')\n",
    "obs_reals_po = obs_ens_po.T\n",
    "#obs_reals\n",
    "obs_po = obs_reals_po.loc[obs_reals_po.index.str.contains('oname:hd_otype')] #.astype({c:int for c in ['i','j']})\n",
    "\n",
    "obs_ens_pr = utils.try_load_ensemble(pst, os.path.join(m_d, \"Dunedin_SS_base.0.obs.jcb\"), kind='obs')\n",
    "obs_reals_pr= obs_ens_pr.T\n",
    "#obs_reals\n",
    "obs_pr = obs_reals_pr.loc[obs_reals_pr.index.str.contains('oname:hd_otype')] #.astype({c:int for c in ['i','j']})\n",
    "percent = 100 * (1.0 - obs_po.std(axis=1)/obs_pr.std(axis=1))\n",
    "ar = np.zeros(m.dis.top.shape) * np.nan\n",
    "ar[tuple(\n",
    "    pst.observation_data.loc[obs_pr.index][['i', 'j']].astype(int).values.T\n",
    ")] =  percent # par_obs.loc[:, 0].values\n",
    "\n",
    "plt.figure()\n",
    "plt.imshow(np.ma.masked_where(ar<0, ar), cmap = 'plasma', vmin=0, vmax=100)\n",
    "plt.colorbar()"
   ]
  },
  {
   "cell_type": "code",
   "execution_count": null,
   "id": "cd99cdbb-5474-47bc-8c29-adf5965674a2",
   "metadata": {},
   "outputs": [],
   "source": []
  }
 ],
 "metadata": {
  "kernelspec": {
   "display_name": "Python 3 (ipykernel)",
   "language": "python",
   "name": "python3"
  },
  "language_info": {
   "codemirror_mode": {
    "name": "ipython",
    "version": 3
   },
   "file_extension": ".py",
   "mimetype": "text/x-python",
   "name": "python",
   "nbconvert_exporter": "python",
   "pygments_lexer": "ipython3",
   "version": "3.11.0"
  }
 },
 "nbformat": 4,
 "nbformat_minor": 5
}
