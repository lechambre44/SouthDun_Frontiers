{
 "cells": [
  {
   "cell_type": "code",
   "execution_count": null,
   "id": "6998636c",
   "metadata": {},
   "outputs": [],
   "source": [
    "%matplotlib widget\n",
    "import os\n",
    "import numpy as np\n",
    "import pandas as pd\n",
    "import matplotlib.pyplot as plt\n",
    "import shutil\n",
    "import copy\n",
    "import datetime\n",
    "import re\n",
    "import string\n",
    "from matplotlib.backends.backend_pdf import PdfPages\n",
    "import matplotlib.colors as colors\n",
    "from pathlib import Path\n",
    "\n",
    "# from scipy import ndimage as nd\n",
    "\n",
    "import flopy\n",
    "print(\"flopy path: {}\".format(flopy.__path__))\n",
    "print(\"flopy version: {}\".format(flopy.__version__))\n",
    "import pyemu\n",
    "\n",
    "import sys\n",
    "sys.path.append(\"..\")\n",
    "from scripts import utils\n",
    "from scripts import build"
   ]
  },
  {
   "cell_type": "markdown",
   "id": "22a93ec1",
   "metadata": {},
   "source": [
    "# SS \"history period\" model build"
   ]
  },
  {
   "cell_type": "code",
   "execution_count": null,
   "id": "c953c2ed",
   "metadata": {
    "scrolled": true,
    "tags": []
   },
   "outputs": [],
   "source": [
    "base_m = build.build_from_orig(version='ss', run=True)"
   ]
  },
  {
   "cell_type": "markdown",
   "id": "527dda48",
   "metadata": {},
   "source": [
    "# PEST interface for SS history model"
   ]
  },
  {
   "cell_type": "code",
   "execution_count": null,
   "id": "6cda1796",
   "metadata": {
    "scrolled": true
   },
   "outputs": [],
   "source": [
    "nreals = 50 # number of realisations in ensemble\n",
    "pst = build.setup_pst(base_m, nreals=nreals) # set-up PEST interface"
   ]
  },
  {
   "cell_type": "markdown",
   "id": "024a9404",
   "metadata": {},
   "source": [
    "# Run history period prior Monte Carlo analysis"
   ]
  },
  {
   "cell_type": "code",
   "execution_count": null,
   "id": "5570c31b",
   "metadata": {},
   "outputs": [],
   "source": [
    "# either use base_m model object as defined above or explicitly pass str:\n",
    "m_d = \"master_hist_prior\"\n",
    "noptmax=-1\n",
    "pst = \"Dunedin_SS_base.pst\"\n",
    "utils.prep_and_run(pst, t_d=\"template_hist_ss\", m_d=m_d, nreals=nreals, noptmax=noptmax)"
   ]
  },
  {
   "cell_type": "code",
   "execution_count": null,
   "id": "10deed3b",
   "metadata": {},
   "outputs": [],
   "source": [
    "# read modflow model\n",
    "m_d = \"master_hist_prior\"\n",
    "m_d =os.path.join(\"..\", m_d)\n",
    "m = flopy.modflow.Modflow.load(\n",
    "    f=\"SouthDun_SS.nam\", \n",
    "    model_ws=m_d, \n",
    "    version='mfnwt',\n",
    "    exe_name='mfnwt.exe', \n",
    "    verbose=False, \n",
    "    check=True\n",
    ")\n",
    "# PROCESS SWEEP OUTPUTS From Prior MC\n",
    "# re-read pst control file from master dir\n",
    "try:\n",
    "    pst.filename = Path(pst.filename)\n",
    "    pst = pyemu.Pst(os.path.join(m_d, pst.filename.name))\n",
    "except (AttributeError, NameError):\n",
    "    pst = \"Dunedin_SS_base.pst\"\n",
    "    pst = pyemu.Pst(os.path.join(m_d, pst))\n",
    "# get pest obs data from pest control file object\n",
    "obs = pst.observation_data\n",
    "\n",
    "# pulling pest file name from pst object\n",
    "pstfnme = Path(pst.filename)\n",
    "# show initial phi componenets\n",
    "print(\"Group phi components from base model run\")\n",
    "display(pd.DataFrame.from_dict(pst.phi_components, orient='index'))\n",
    "# re ensemble outputs\n",
    "oe_pr = utils.try_load_ensemble(pst, os.path.join(m_d, f\"{pstfnme.stem}.0.obs.csv\"), kind='obs')\n",
    "# read obs + noise ensemble (IES drew this from obs weights when we ran prior)\n",
    "# revist weight on water level obs\n",
    "nnzobs = obs.loc[pst.nnz_obs_names]\n",
    "wlobs = nnzobs.loc[nnzobs.oname==\"wl\"].index"
   ]
  },
  {
   "cell_type": "markdown",
   "id": "46a4f8a8",
   "metadata": {},
   "source": [
    "# Process model outputs from prior MC\n",
    "### History period prior probability of inundaiton"
   ]
  },
  {
   "cell_type": "code",
   "execution_count": null,
   "id": "1b3a239b",
   "metadata": {
    "tags": []
   },
   "outputs": [],
   "source": [
    "hdobs = obs.loc[obs.oname == \"hd\"].astype({c: int for c in ['kper', 'k', 'i', 'j']})\n",
    "hdobs['top'] = m.dis.top.array[tuple(hdobs[['i', 'j']].T.values)]\n",
    "hdvtop = oe_pr.T.loc[hdobs.index].sub(hdobs.top, axis=0)\n",
    "# calc probabilities of exceed for every output\n",
    "# Transpose obs ensemble (ensemble outputs), slice for just hd obs,\n",
    "# substract model top from every realisation,\n",
    "# where positive simulated head exceeds model top, count reals where positive, divide by nreal\n",
    "hdobs['prob'] = (hdvtop > 0).sum(axis=1) / oe_pr.shape[0]\n",
    "\n",
    "# create an array from these obs -- WILL NEED TO BE DIF IF MULTPLE KPER AND LAYERS\n",
    "ar_prior = np.zeros((m.nrow, m.ncol))  # blank array\n",
    "\n",
    "# add elements from dataframe\n",
    "ar_prior[tuple(hdobs[['i', 'j']].T.values)] = hdobs.prob\n",
    "\n",
    "fig, ax = plt.subplots(1, 1, figsize=(6, 6))\n",
    "im = ax.imshow(np.ma.masked_where(m.bas6.ibound.array[0] == 0, ar_prior * 100),\n",
    "               cmap=\"jet\", interpolation='none')\n",
    "fig.colorbar(im)\n",
    "fig.tight_layout()"
   ]
  },
  {
   "cell_type": "markdown",
   "id": "77b7fb08",
   "metadata": {},
   "source": [
    "### History period prior -versus- model top"
   ]
  },
  {
   "cell_type": "markdown",
   "id": "9b4b79d1",
   "metadata": {},
   "source": [
    "### Drains prior -versus- obs+noise"
   ]
  },
  {
   "cell_type": "code",
   "execution_count": null,
   "id": "d42a5f8b",
   "metadata": {
    "tags": []
   },
   "outputs": [],
   "source": [
    "# Plotting ensemble output histograms\n",
    "#load obs+noise ensemble\n",
    "obsplus = utils.try_load_ensemble(pst, os.path.join(m_d, f\"{pstfnme.stem}.obs+noise.csv\"), kind='obs')\n",
    "# just slice out drain obs\n",
    "drnsumobs = obs.loc[obs.oname==\"drnsum\"]#.astype({c:int for c in ['kper','k','i','j']})\n",
    "# Prior sim out of drain sum ob\n",
    "drnsumoe_pr = oe_pr.loc[:, drnsumobs.index]\n",
    "# obs plus noise for output \n",
    "dnobsplus = obsplus.loc[:, drnsumobs.index]\n",
    "# plot histos\n",
    "fig, ax = plt.subplots(1,1, figsize=(6,4))\n",
    "_ = drnsumoe_pr.hist(ax=ax, bins=25, color='0.5', alpha=0.5, density=False)\n",
    "_ = dnobsplus.hist(ax=ax, bins=25, color='r', alpha=0.5, density=False)\n",
    "ax.set_title(label='Storm / wastewater flux (prior -vs- obs)', fontsize=7)\n",
    "ax.tick_params(axis='x', labelsize=7)\n",
    "ax.tick_params(axis='y', labelsize=7)\n",
    "ax.set_xlabel('Flux m$^3$/day', fontsize=7)\n",
    "ax.set_ylabel('Num. reals', fontsize=7)\n",
    "#plt.savefig(\"plots/prior_drn_flux\")"
   ]
  },
  {
   "cell_type": "markdown",
   "id": "d1858d4d",
   "metadata": {},
   "source": [
    "### Well obs prior versus obs+noise"
   ]
  },
  {
   "cell_type": "code",
   "execution_count": null,
   "id": "9b2528b3",
   "metadata": {
    "scrolled": true,
    "tags": []
   },
   "outputs": [],
   "source": [
    "# Prior simulatout outputs for WL obs vs obs+noise reals\n",
    "w_obs = obs.loc[obs.index.str.contains('sitename') & (obs.weight>0)].astype({'i':int, 'j':int})\n",
    "\n",
    "for ob in w_obs.index:\n",
    "    top = m.dis.top.array[(w_obs.loc[ob].i, w_obs.loc[ob].j)]\n",
    "    # Prior sim out\n",
    "    tp_pr = oe_pr.loc[:, ob]\n",
    "    # OBS \n",
    "    # obsplus = pd.read_csv(os.path.join(m_d, \"Dunedin_SS_base.obs+noise.csv\"), index_col=0)\n",
    "    tpobsplus = obsplus.loc[:, ob]\n",
    "    \n",
    "    fig, ax = plt.subplots(1,1, figsize=(6,4))\n",
    "    tp_pr.hist(ax=ax, bins=25, color='0.5', alpha=0.5, density=False)\n",
    "    tpobsplus.hist(ax=ax, bins=25, color='r', alpha=0.5, density=False)\n",
    "    ys = ax.get_ylim()\n",
    "    ax.plot((top, top), ys, color='k', ls='--')\n",
    "    ax.set_title(ob, fontsize=6)\n",
    "    ax.tick_params(axis='x', labelsize=7)\n",
    "    ax.tick_params(axis='y', labelsize=7)\n",
    "    ax.set_xlabel('Groundwater level m (OMD)', fontsize=7)\n",
    "    ax.set_ylabel('Num. reals', fontsize=7)"
   ]
  },
  {
   "cell_type": "markdown",
   "id": "2fc8c64b",
   "metadata": {},
   "source": [
    "### Reweighting groundwater level observations (prior to history matching)"
   ]
  },
  {
   "cell_type": "code",
   "execution_count": null,
   "id": "9b319a20",
   "metadata": {},
   "outputs": [],
   "source": [
    "# first increase variance on highly uncertain drain obs estimate\n",
    "obs.loc[drnsumobs.index, 'weight'] = 1/500\n",
    "# drop moana rua shallow\n",
    "mrs = w_obs.loc[w_obs.sitename=='moana-rua-shallow'] \n",
    "obs.loc[mrs.index, 'weight'] = 0\n",
    "# drop Tonga Park deep\n",
    "tpd = w_obs.loc[w_obs.sitename=='tonga-park-deep'] \n",
    "obs.loc[tpd.index, 'weight'] = 0\n",
    "# reweight fitzroy street\n",
    "ftz = w_obs.loc[w_obs.sitename=='fitzroy-st'] \n",
    "obs.loc[ftz.index, 'weight'] = 0\n",
    "# reweight Turukina Rd\n",
    "trd = w_obs.loc[w_obs.sitename=='turakina-rd'] \n",
    "obs.loc[trd.index, 'weight'] = 0\n",
    "# reweight Scout hall shallow\n",
    "shs = w_obs.loc[w_obs.sitename=='scout-hall-shallow'] \n",
    "obs.loc[shs.index, 'weight'] = 0\n",
    "# reweight OMES\n",
    "oms = w_obs.loc[w_obs.sitename=='omes'] \n",
    "obs.loc[oms.index, 'weight'] = 0\n",
    "# reweight holiday-park\n",
    "hyd = w_obs.loc[w_obs.sitename=='holiday-park'] \n",
    "obs.loc[hyd.index, 'weight'] = 0\n",
    "# reweight Richardson\n",
    "ric = w_obs.loc[w_obs.sitename=='richardson-st'] \n",
    "obs.loc[ric.index, 'weight'] = 0\n",
    "# reweight ravelston\n",
    "rav = w_obs.loc[w_obs.sitename=='ravelston'] \n",
    "obs.loc[rav.index, 'weight'] = 0\n",
    "# reweight forbury\n",
    "fby = w_obs.loc[w_obs.sitename=='forbury-park-raceway'] \n",
    "obs.loc[fby.index, 'weight'] = 0"
   ]
  },
  {
   "cell_type": "code",
   "execution_count": null,
   "id": "305d1db4",
   "metadata": {
    "tags": []
   },
   "outputs": [],
   "source": [
    "# redraw obs plus noise\n",
    "obsplus = pyemu.ObservationEnsemble.from_gaussian_draw(\n",
    "    pst, num_reals=nreals, fill=True)\n",
    "obsplus.add_base()\n",
    "obsplus = obsplus._df\n",
    "# force drawn obs reals for drain to be < -500\n",
    "dnobsplus = obsplus.loc[:, drnsumobs.index]\n",
    "dnobsplus[dnobsplus > 0] = 0\n",
    "obsplus.loc[:, drnsumobs.index] = dnobsplus\n",
    "# for fun plot drain prior with obs+noise reals\n",
    "fig, ax = plt.subplots(1,1, figsize=(6,4))\n",
    "_ = drnsumoe_pr.hist(ax=ax, bins=25, color='0.5', alpha=0.5, density=False)\n",
    "_ = obsplus.loc[:, drnsumobs.index].hist(\n",
    "    ax=ax, bins=25, color='r', alpha=0.5, density=False)\n",
    "ax.set_title(label='Storm / wastewater flux (prior -vs- obs)', fontsize=7)\n",
    "ax.tick_params(axis='x', labelsize=7)\n",
    "ax.tick_params(axis='y', labelsize=7)\n",
    "ax.set_xlabel('Flux m$^3$/day', fontsize=7)\n",
    "ax.set_ylabel('Num. reals', fontsize=7)\n",
    "\n",
    "# similarly clip drawn wl noise obs to below model surface\n",
    "w_obs['top'] = m.dis.top.array[tuple(w_obs[['i','j']].values.T)]\n",
    "wlobsplus = obsplus.loc[:, w_obs.index]\n",
    "wlobsplus = wlobsplus.where(~wlobsplus.gt(w_obs.top), w_obs.top, axis=1)\n",
    "obsplus.loc[:, w_obs.index] = wlobsplus\n",
    "for ob in w_obs.index:\n",
    "    top = m.dis.top.array[(w_obs.loc[ob].i, w_obs.loc[ob].j)]\n",
    "    # Prior sim out\n",
    "    tp_pr = oe_pr.loc[:, ob]\n",
    "    # OBS \n",
    "    # obsplus = pd.read_csv(os.path.join(m_d, \"Dunedin_SS_base.obs+noise.csv\"), index_col=0)\n",
    "    tpobsplus = obsplus.loc[:, ob]\n",
    "    \n",
    "    fig, ax = plt.subplots(1,1, figsize=(6,4))\n",
    "    tp_pr.hist(ax=ax, bins=25, color='0.5', alpha=0.5, density=False)\n",
    "    tpobsplus.hist(ax=ax, bins=25, color='r', alpha=0.5, density=False)\n",
    "    ys = ax.get_ylim()\n",
    "    ax.plot((top, top), ys, color='k', ls='--')\n",
    "    ax.set_title(ob, fontsize=6)\n",
    "    ax.tick_params(axis='x', labelsize=7)\n",
    "    ax.tick_params(axis='y', labelsize=7)\n",
    "    ax.set_xlabel('Groundwater level m (OMD)', fontsize=7)\n",
    "    ax.set_ylabel('Num. reals', fontsize=7)"
   ]
  },
  {
   "cell_type": "markdown",
   "id": "90371778",
   "metadata": {},
   "source": [
    "### Reweighting prior-data conflict observations"
   ]
  },
  {
   "cell_type": "code",
   "execution_count": null,
   "id": "0de0a119",
   "metadata": {
    "tags": []
   },
   "outputs": [],
   "source": [
    "# pdc work\n",
    "# set less_than obsplus to be equal to obs val (as we are determining them to be model top always)\n",
    "lessthanobs = nnzobs.loc[nnzobs.obgnme.str.startswith('less_')]\n",
    "# modify obs+noise to remove noise from less than obs\n",
    "obsplus.loc[:, lessthanobs.index] = lessthanobs.obsval.values\n",
    "#display(obsplus.loc[:, lessthanobs.index].head())\n",
    "# write modified obs+noise ensemble to prior master and template\n",
    "# pass back to an obsensemble object\n",
    "obsplus = pyemu.ObservationEnsemble(pst, obsplus)\n",
    "obsplus.to_binary(os.path.join(m_d, \"Dunedin_SS_base_rw.obs+noise.jcb\"))\n",
    "obsplus.to_binary(os.path.join(\"..\", \"template_hist_ss\", \"Dunedin_SS_base_rw.obs+noise.jcb\"))\n",
    "\n",
    "# min mean and max of simulated outputs (used to determine conflicts)\n",
    "nnzobs['minout'] = oe_pr.loc[:, nnzobs.index].min()\n",
    "nnzobs['meanout'] = oe_pr.loc[:, nnzobs.index].mean()\n",
    "nnzobs['maxout'] = oe_pr.loc[:, nnzobs.index].max()\n",
    "\n",
    "# min mean and max of obs+noise reals (used to determine conflicts)\n",
    "nnzobs['obsmin'] = obsplus.loc[:, nnzobs.index].min()\n",
    "nnzobs['obsmean'] = obsplus.loc[:, nnzobs.index].mean()\n",
    "nnzobs['obsmax'] = obsplus.loc[:, nnzobs.index].max()\n",
    "\n",
    "# need to treat less than obs and normal obs a bit different\n",
    "lessthanobs = nnzobs.loc[lessthanobs.index] # only conflict where simmin>obsmax\n",
    "normalobs = nnzobs.loc[nnzobs.index.difference(lessthanobs.index)] # also conflict where simmax<obsmin\n",
    "\n",
    "# pull out conflicting obs\n",
    "conflict_obs = pd.concat(\n",
    "    [normalobs.loc[normalobs.minout > normalobs.obsmax,:],\n",
    "     normalobs.loc[normalobs.maxout < normalobs.obsmin,:],\n",
    "     lessthanobs.loc[lessthanobs.minout > lessthanobs.obsmax,:]]\n",
    ")\n",
    "#display(conflict_obs)\n",
    "#display(conflict_obs.groupby('obgnme').count())\n",
    "#display(obs.loc[conflict_obs.index, ['weight']])\n",
    "\n",
    "# set weight of conflicting obs to zero\n",
    "obs.loc[conflict_obs.index, 'weight'] = 0\n",
    "#display(obs.loc[conflict_obs.index, ['weight']])\n",
    "pst.observation_data = obs\n",
    "\n",
    "# phi components with be frome base.rei file \n",
    "# (so base realisation run in ensemble)\n",
    "# but with adjusted weights after pdc (on pst.observation_data object)\n",
    "#display(pd.DataFrame.from_dict(pst.phi_components, orient='index')) #phi comps from base model run\n",
    "\n",
    "# Weight Balancing steps\n",
    "# make sure we are using the calculated residual from the prior to provide the\n",
    "# current phi components by group\n",
    "# generate residual dataframe from ensemble\n",
    "# (will use base realistion or mean of ensemble)\n",
    "if \"real_name\" in oe_pr.columns:\n",
    "    oe_pr = oe_pr.set_index('real_name')\n",
    "\n",
    "# try with prior mean (recalcs phi comps)\n",
    "res = oe_pr.mean().to_frame()\n",
    "res.columns = ['modelled']\n",
    "res['measured'] = obsplus.mean()\n",
    "res['group'] = obs.obgnme\n",
    "# below methos expeting \"name\" column\n",
    "res['name'] = res.index\n",
    "pst.set_res(res)\n",
    "\n",
    "# build dict or desired group weights\n",
    "phi_comps = pst.phi_components\n",
    "#display(\"\\nPHI COMPONENTS BEFORE BALANANCING\")\n",
    "#display(pd.DataFrame.from_dict(phi_comps, orient='index'))\n",
    "\n",
    "# only want to work with non zero contributing groups\n",
    "phi_comps = {k: phi_comps[k] for k in phi_comps.keys() if phi_comps[k] > 0}\n",
    "#display(pd.DataFrame.from_dict(phi_comps, orient='index'))\n",
    "maxgpcont = pd.DataFrame.from_dict(phi_comps, orient='index').max()[0]\n",
    "\n",
    "obs.loc[pst.nnz_obs_names].groupby('obgnme')['obgnme'].count()\n",
    "#display(\"\\nattempting to balance weights\") #  so less-thans contribute more (as more obs)\")\n",
    "\n",
    "new_phi_comps = pd.DataFrame.from_dict(phi_comps, orient='index')\n",
    "new_phi_comps.loc[:, :] = maxgpcont  # set groups to same value\n",
    "new_phi_comps.loc[new_phi_comps.index == \"less_hd\", :] *= 1.0e-1\n",
    "new_phi_comps.loc[(new_phi_comps.index ==\n",
    "                   \"oname:drnsum_otype:lst_usecol:sum\"), :] *= 1.0e-2\n",
    "#display(\"\\nDESIRED PHI COMPONENTS AFTER BALANANCING\")\n",
    "#display(new_phi_comps)\n",
    "\n",
    "# send desired group weights to pyemu method of adjusting group wise\n",
    "pst.adjust_weights(obsgrp_dict=new_phi_comps[0].to_dict())\n",
    "display(\"\\nPHI COMPONENTS AFTER BALANANCING\")\n",
    "#print(pst.observation_data.loc[pst.nnz_obs_names])\n",
    "display(pd.DataFrame.from_dict(pst.phi_components, orient='index'))\n",
    "\n",
    "# make sure we are using the calculated residual from the prior to provide the\n",
    "# current phi components by group\n",
    "# generate residual dataframe from ensemble \n",
    "# (will use base realistion or mean of ensemble)\n",
    "#res = pyemu.pst_utils.res_from_en(pst, oe_pr) #.set_index('real_name'))\n",
    "\n",
    "# below methos expeting \"name\" column\n",
    "#res['name'] = res.index\n",
    "#pst.set_res(res)\n",
    "\n",
    "# build dict or desired group weights\n",
    "#phi_comps = pst.phi_components\n",
    "#display(pd.DataFrame.from_dict(phi_comps, orient='index'))\n",
    "\n",
    "# only want to work with non zero contributing groups\n",
    "#phi_comps = {k: phi_comps[k] for k in phi_comps.keys() if phi_comps[k]>0}\n",
    "#display(pd.DataFrame.from_dict(phi_comps, orient='index'))\n",
    "#maxgpcont = pd.DataFrame.from_dict(phi_comps, orient='index').max()[0]"
   ]
  },
  {
   "cell_type": "markdown",
   "id": "fdc46527",
   "metadata": {},
   "source": [
    "#### Num. observations used for history matching"
   ]
  },
  {
   "cell_type": "code",
   "execution_count": null,
   "id": "5cee4d27",
   "metadata": {},
   "outputs": [],
   "source": [
    "obs.loc[pst.nnz_obs_names].groupby('obgnme')['obgnme'].count()"
   ]
  },
  {
   "cell_type": "markdown",
   "id": "1bf5b205",
   "metadata": {},
   "source": [
    "# Prep and run history matching"
   ]
  },
  {
   "cell_type": "code",
   "execution_count": null,
   "id": "feba18d7",
   "metadata": {},
   "outputs": [],
   "source": [
    "pst.pestpp_options[\"ies_obs_en\"] = \"Dunedin_SS_base_rw.obs+noise.jcb\"\n",
    "pst.pestpp_options[\"ies_restart_observation_ensemble\"] = \"Dunedin_SS_base_rw.0.obs.jcb\"\n",
    "pst.pestpp_options[\"ies_par_en\"] = \"Dunedin_SS_base.0.par.jcb\"\n",
    "pst.pestpp_options[\"ies_subset_size\"] = int(0.1 * nreals)\n",
    "# 10% of nreals (later version of PESTPP can just use -10)\n",
    "# save update pst control file (in master prior for now)\n",
    "if os.path.exists(\n",
    "        os.path.join(\"..\", \"template_hist_ss\", \"Dunedin_SS_base.pst.bckup\")\n",
    "):\n",
    "    shutil.copy(os.path.join(\"..\", \"template_hist_ss\", \"Dunedin_SS_base.pst.bckup\"),\n",
    "                os.path.join(\"..\", \"template_hist_ss\", \"Dunedin_SS_base.pst\"))\n",
    "else:\n",
    "    shutil.copy(os.path.join(\"..\", \"template_hist_ss\", \"Dunedin_SS_base.pst\"),\n",
    "                os.path.join(\"..\", \"template_hist_ss\", \"Dunedin_SS_base.pst.bckup\"))\n",
    "pst.write(os.path.join(m_d, \"Dunedin_SS_base_rw.pst\"), version=2)\n",
    "pst.write(os.path.join(\"..\", \"template_hist_ss\", \"Dunedin_SS_base.pst\"), version=2)\n",
    "# copy files that we need in template\n",
    "shutil.copy(os.path.join(m_d, \"Dunedin_SS_base.0.obs.jcb\"),\n",
    "            os.path.join(\"..\", \"template_hist_ss\", \"Dunedin_SS_base_rw.0.obs.jcb\"))\n",
    "shutil.copy(os.path.join(m_d, \"Dunedin_SS_base.0.par.jcb\"),\n",
    "            os.path.join(\"..\", \"template_hist_ss\", \"Dunedin_SS_base.0.par.jcb\"))"
   ]
  },
  {
   "cell_type": "code",
   "execution_count": null,
   "id": "e90d0387",
   "metadata": {},
   "outputs": [],
   "source": [
    "# either use base_m model object as defined above or explicitly pass str:\n",
    "noptmax=6\n",
    "pstfile = \"Dunedin_SS_base.pst\"\n",
    "utils.prep_and_run(pstfile, t_d=\"template_hist_ss\", \n",
    "                   nreals=nreals, noptmax=noptmax)"
   ]
  },
  {
   "cell_type": "markdown",
   "id": "4d8e1a5f",
   "metadata": {},
   "source": [
    "# Read and process ensemble outputs for history period (following history matching)"
   ]
  },
  {
   "cell_type": "markdown",
   "id": "479c01ab",
   "metadata": {},
   "source": [
    "### posterior probability of groundwater inundation for history period"
   ]
  },
  {
   "cell_type": "code",
   "execution_count": null,
   "id": "40254835",
   "metadata": {
    "tags": []
   },
   "outputs": [],
   "source": [
    "# new master directory\n",
    "m_d = os.path.join(\"..\", \"master\")\n",
    "\n",
    "# pestpp-ies iteration\n",
    "it = noptmax\n",
    "\n",
    "# load posterior ensemble\n",
    "oe_po = utils.try_load_ensemble(pst, os.path.join(m_d, f\"Dunedin_SS_base.{it}.obs.jcb\"), 'obs')\n",
    "\n",
    "# get pest obs data\n",
    "obs = pst.observation_data\n",
    "\n",
    "# just hd outputs\n",
    "hdobs = obs.loc[obs.obgnme == \"oname:hd_otype:lst_usecol:obsval\"].astype({c:int for c in ['kper','k','i','j']})\n",
    "\n",
    "# add column that aligns model top info to hd output names\n",
    "hdobs['top'] = m.dis.top.array[tuple(hdobs[['i','j']].T.values)]\n",
    "\n",
    "# calc probabilities of exceed for every output\n",
    "# Transpose obs ensemble (ensemble outputs), slice for just hd obs, \n",
    "# substract model top from every realisation,\n",
    "# where positive simulated head exceeds model top, count reals where positive, divide by nreal\n",
    "hdobs['prob'] = (oe_po.T.loc[hdobs.index].sub(hdobs.top, axis=0) > 0).sum(axis=1)/oe_po.shape[0]\n",
    "\n",
    "# create an array from these obs -- WILL NEED TO BE DIF IF MULTPLE KPER AND LAYERS\n",
    "ar_post = np.zeros((m.nrow, m.ncol)) # blank array\n",
    "\n",
    "# add elements from dataframe\n",
    "ar_post[tuple(hdobs[['i','j']].T.values)] = hdobs.prob\n",
    "\n",
    "plt.figure(figsize=(6,6))\n",
    "plt.imshow(np.ma.masked_where(m.bas6.ibound.array[0]==0, ar_post), cmap=\"jet\")\n",
    "plt.colorbar()"
   ]
  },
  {
   "cell_type": "markdown",
   "id": "c46e7ca9",
   "metadata": {},
   "source": [
    "### prior versus poster drain fluxes"
   ]
  },
  {
   "cell_type": "code",
   "execution_count": null,
   "id": "aa4d1b18",
   "metadata": {
    "tags": []
   },
   "outputs": [],
   "source": [
    "drnsumobs = obs.loc[obs.index.str.startswith('oname:drnsum')]#.astype({c:int for c in ['kper','k','i','j']})\n",
    "# Prior sim out\n",
    "drnsumoe_pr = oe_pr.loc[:, drnsumobs.index]\n",
    "# Posterior sim out\n",
    "drnsumoe_po = oe_po.loc[:, drnsumobs.index]\n",
    "\n",
    "# OBS\n",
    "obsplus = pyemu.ObservationEnsemble.from_binary(\n",
    "    pst, os.path.join(m_d, \"Dunedin_SS_base_rw.obs+noise.jcb\"))\n",
    "# obsplus = pd.read_csv(os.path.join(m_d, \"Dunedin_SS_base.obs+noise.csv\"), \n",
    "#                       index_col=0)\n",
    "dnobsplus = obsplus.loc[:, drnsumobs.index]\n",
    "\n",
    "fig, ax = plt.subplots(1,1, figsize=(6,4))\n",
    "drnsumoe_pr.hist(ax=ax, bins=25, color='0.5', alpha=0.5, density=False)\n",
    "drnsumoe_po.hist(ax=ax, bins=25, color='b', alpha=0.5, density=False)\n",
    "dnobsplus.hist(ax=ax, bins=25, color='r', alpha=0.5, density=False)\n",
    "ax.set_title(label='Storm / wastewater flux (prior -vs- post. -vs- obs)', fontsize=7)\n",
    "ax.tick_params(axis='x', labelsize=7)\n",
    "ax.tick_params(axis='y', labelsize=7)\n",
    "ax.set_xlabel('Flux m$^3$/day', fontsize=7)\n",
    "ax.set_ylabel('Num. reals', fontsize=7)\n",
    "ax.set_xlim(-6000, 1000)\n",
    "#ax.set_ylim(0, 50)\n",
    "#plt.savefig(\"plots/prior_drn_flux\")"
   ]
  },
  {
   "cell_type": "markdown",
   "id": "f7ddb377",
   "metadata": {},
   "source": [
    "#### prior versus posterior gw level obs"
   ]
  },
  {
   "cell_type": "code",
   "execution_count": null,
   "id": "f192c68d",
   "metadata": {
    "tags": []
   },
   "outputs": [],
   "source": [
    "w_obs = obs.loc[\n",
    "    obs.index.str.contains('sitename') & (obs.kper=='0')\n",
    "].astype({'i':int, 'j':int})\n",
    "\n",
    "m.dis.top.array[(w_obs.loc[ob].i, w_obs.loc[ob].j)]\n",
    "\n",
    "for ob in w_obs.index:\n",
    "    top = m.dis.top.array[(w_obs.loc[ob].i, w_obs.loc[ob].j)]\n",
    "    # Prior sim out\n",
    "    tp_pr = oe_pr.loc[:, ob]\n",
    "    # Posterior sim out\n",
    "    tp_po = oe_po.loc[:, ob]\n",
    "    # OBS \n",
    "    # obsplus = pd.read_csv(os.path.join(m_d, \"Dunedin_SS_base.obs+noise.csv\"), index_col=0)\n",
    "    tpobsplus = obsplus.loc[:, ob]\n",
    "    \n",
    "    fig, ax = plt.subplots(1,1, figsize=(6,4))\n",
    "    tp_pr.hist(ax=ax, bins=25, color='0.5', alpha=0.5, density=False)\n",
    "    tp_po.hist(ax=ax, bins=25, color='b', alpha=0.5, density=False)\n",
    "    tpobsplus.hist(ax=ax, bins=25, color='r', alpha=0.5, density=False)\n",
    "    ys = ax.get_ylim()\n",
    "    ax.plot((top, top), ys, c='k', ls='--')\n",
    "    ax.plot((w_obs.loc[ob, 'obsval'], w_obs.loc[ob, 'obsval']), ys, c='r', ls='--')\n",
    "    ax.set_title(ob, fontsize=8)\n",
    "    #ax.set_title(label='Storm / wastewater flux (prior -vs- obs)', fontsize=7)\n",
    "    ax.tick_params(axis='x', labelsize=7)\n",
    "    ax.tick_params(axis='y', labelsize=7)\n",
    "    #ax.set_xlim(98, 103)\n",
    "    ax.set_xlabel('groundwater level m (OMD)', fontsize=7)\n",
    "    ax.set_ylabel('Num. reals', fontsize=7)"
   ]
  },
  {
   "cell_type": "markdown",
   "id": "42edb2b9",
   "metadata": {},
   "source": [
    "#### % uncertainty reduction in groundwater levels"
   ]
  },
  {
   "cell_type": "code",
   "execution_count": null,
   "id": "b6ec497a",
   "metadata": {},
   "outputs": [],
   "source": [
    "# re ensemble outputs\n",
    "#load obs po ensemble using Brioch's try_load_ensemble function\n",
    "obs_ens_po = utils.try_load_ensemble(pst, os.path.join(m_d, f\"Dunedin_SS_base.{it}.obs.jcb\"), kind='obs')\n",
    "obs_reals_po = obs_ens_po.T\n",
    "#obs_reals\n",
    "obs_po = obs_reals_po.loc[obs_reals_po.index.str.contains('oname:hd_otype')] #.astype({c:int for c in ['i','j']})\n",
    "\n",
    "obs_ens_pr = utils.try_load_ensemble(pst, os.path.join(m_d, \"Dunedin_SS_base.0.obs.jcb\"), kind='obs')\n",
    "obs_reals_pr= obs_ens_pr.T\n",
    "#obs_reals\n",
    "obs_pr = obs_reals_pr.loc[obs_reals_pr.index.str.contains('oname:hd_otype')] #.astype({c:int for c in ['i','j']})\n",
    "percent = 100 * (1.0 - obs_po.std(axis=1)/obs_pr.std(axis=1))\n",
    "ar = np.zeros(m.dis.top.shape) * np.nan\n",
    "ar[tuple(\n",
    "    pst.observation_data.loc[obs_pr.index][['i', 'j']].astype(int).values.T\n",
    ")] =  percent # par_obs.loc[:, 0].values\n",
    "\n",
    "plt.figure()\n",
    "plt.imshow(np.ma.masked_where(ar<0, ar), cmap = 'plasma', vmin=0, vmax=100)\n",
    "plt.colorbar()"
   ]
  },
  {
   "cell_type": "markdown",
   "id": "45fde4d5",
   "metadata": {},
   "source": [
    "# Forecast model build"
   ]
  },
  {
   "cell_type": "code",
   "execution_count": null,
   "id": "08591b3b",
   "metadata": {
    "scrolled": true
   },
   "outputs": [],
   "source": [
    "pred_m = build.build_from_orig(version='pred', run=True)"
   ]
  },
  {
   "cell_type": "markdown",
   "id": "a1e7a081",
   "metadata": {},
   "source": [
    "# set-up PEST interface for projection model"
   ]
  },
  {
   "cell_type": "code",
   "execution_count": null,
   "id": "5d15d6dc",
   "metadata": {
    "scrolled": true
   },
   "outputs": [],
   "source": [
    "pred_pst = build.setup_pst(\"Dunedin_Pred_base\", nreals=nreals)"
   ]
  },
  {
   "cell_type": "markdown",
   "id": "431c6393",
   "metadata": {},
   "source": [
    "# Attach SLR scenario (e.g., SSP5)"
   ]
  },
  {
   "cell_type": "code",
   "execution_count": null,
   "id": "46b5a6f9",
   "metadata": {},
   "outputs": [],
   "source": [
    "pst = pyemu.Pst(os.path.join(\"..\", \"template_proj_101\", \"Dunedin_Pred_base.pst\"))\n",
    "pe = pyemu.ParameterEnsemble.from_binary(pst, os.path.join(\"..\", \"template_proj_101\", \"prior_pe.jcb\"))\n",
    "pe.shape"
   ]
  },
  {
   "cell_type": "code",
   "execution_count": null,
   "id": "366455cc",
   "metadata": {
    "tags": []
   },
   "outputs": [],
   "source": [
    "nreals=300  # number of realisations for predictive ensemble (if less than nreals in historymatching)\n",
    "fit=6  # iteration number \n",
    "nworkers=15  # number of parallel realisation to run (lower if cpu limited)\n",
    "t_d = \"template_proj_101\"\n",
    "scen = \"SSP5\"\n",
    "#m_d = f\"master_{scen}\"\n",
    "m_d = \"master_SSP5\"\n",
    "pred_m = build.attach_scenario(model=t_d, scen=scen) # attach SLR scenario"
   ]
  },
  {
   "cell_type": "code",
   "execution_count": null,
   "id": "88288a65",
   "metadata": {},
   "outputs": [],
   "source": [
    "utils.prep_and_run(\"Dunedin_Pred_base.pst\", t_d=t_d, m_d=m_d,\n",
    "                    nreals=nreals, noptmax=-1, nworker=nworkers,\n",
    "                    prior_pe=\"prior_pe.jcb\",\n",
    "                    post_pe=os.path.join(\"..\", \"master\",\n",
    "                                         f\"Dunedin_SS_base.{fit}.par.jcb\"))"
   ]
  },
  {
   "cell_type": "markdown",
   "id": "bd522261-59e7-40a2-aa33-d316b39b5d3c",
   "metadata": {},
   "source": [
    "# Read and process ensemble outputs for projection period"
   ]
  },
  {
   "cell_type": "code",
   "execution_count": null,
   "id": "eeab964e-5bf3-4a4a-9004-e4945c453b44",
   "metadata": {},
   "outputs": [],
   "source": [
    "#pred_pst = \"Dunedin_Pred_base.pst\"\n",
    "m_d = \"master_SSP5\"\n",
    "m_d =os.path.join(\"..\", m_d)\n",
    "m = flopy.modflow.Modflow.load(\n",
    "    f=\"SouthDun_100.nam\", \n",
    "    model_ws=m_d, \n",
    "    version='mfnwt',\n",
    "    exe_name='mfnwt.exe', \n",
    "    verbose=False, \n",
    "    check=True\n",
    ")\n",
    "# PROCESS SWEEP OUTPUTS\n",
    "# re-read pst control file from master dir\n",
    "try:\n",
    "    pred_pst.filename = Path(pred_pst.filename)\n",
    "    pred_pst = pyemu.Pst(os.path.join(m_d, pred_pst.filename.name))\n",
    "except (AttributeError, NameError):\n",
    "    pred_pst = \"Dunedin_Pred_base.pst\"\n",
    "    pred_pst = pyemu.Pst(os.path.join(m_d, pred_pst))\n",
    "pstfnme = Path(pred_pst.filename)"
   ]
  },
  {
   "cell_type": "code",
   "execution_count": null,
   "id": "cc5b2ccb",
   "metadata": {},
   "outputs": [],
   "source": [
    "# re ensemble outputs\n",
    "#oe_po_tr = pd.read_csv(os.path.join(m_d, f\"{pstfnme.stem}.0.obs.csv\"))\n",
    "oe_po_tr = utils.try_load_ensemble(pred_pst, os.path.join(m_d, \"Dunedin_Pred_base.0.obs.jcb\"), kind='obs')\n",
    "#oe_pr_tr = try_load_ensemble(pred_pst, os.path.join(m_d, \"Dunedin_Pred_base.0.obs.jcb\"), kind='obs')\n",
    "oe_po_tr.shape"
   ]
  },
  {
   "cell_type": "markdown",
   "id": "6fb84a03-d2c2-4f70-9eed-91c68a1dca23",
   "metadata": {},
   "source": [
    "#### Let's look at the probability of groundwater inundation for a specific year of the scenario (e.g., 2100)"
   ]
  },
  {
   "cell_type": "code",
   "execution_count": null,
   "id": "f44ff735",
   "metadata": {},
   "outputs": [],
   "source": [
    "# get pest obs data\n",
    "obs = pred_pst.observation_data\n",
    "\n",
    "yr = 2110 # specify year of scenario\n",
    "kper = yr - 2010\n",
    "\n",
    "# specify year of interest (e.g. rcp85 in 2050)\n",
    "obs = obs.loc[obs.index.str.contains(f'kper:{kper}')]\n",
    "\n",
    "# just hd outputs\n",
    "hdobs = obs.loc[obs.obgnme == \"oname:hd_otype:lst_usecol:obsval\"].astype({c:int for c in ['kper','k','i','j']})\n",
    "# add column that aligns model top info to hd output names\n",
    "hdobs['top'] = m.dis.top.array[tuple(hdobs[['i','j']].T.values)]\n",
    "\n",
    "# calc probabilities of exceed for every output\n",
    "# Transpose obs ensemble (ensemble outputs), slice for just hd obs, \n",
    "# substract model top from every realisation,\n",
    "# where positive simulated head exceeds model top, count reals where positive, divide by nreal\n",
    "hdobs['prob'] = ((oe_po_tr.T.loc[hdobs.index].sub(hdobs.top, axis=0) + 0) > 0).sum(axis=1)/oe_po_tr.shape[0]\n",
    "\n",
    "# create an array from these obs -- WILL NEED TO BE DIF IF MULTPLE KPER AND LAYERS\n",
    "ar = np.zeros((m.nrow, m.ncol)) # blank array\n",
    "\n",
    "# add elements from dataframe\n",
    "ar[tuple(hdobs[['i','j']].T.values)] = hdobs.prob\n",
    "\n",
    "plt.figure(figsize=(6,6))\n",
    "plt.title(yr, fontsize=12)\n",
    "plt.imshow(np.ma.masked_where(m.bas6.ibound.array[0]==0, ar), cmap='jet')\n",
    "plt.colorbar()"
   ]
  },
  {
   "cell_type": "code",
   "execution_count": null,
   "id": "6df387be",
   "metadata": {
    "tags": []
   },
   "outputs": [],
   "source": [
    "#get pest obs data\n",
    "obs = pred_pst.observation_data\n",
    "drnsumobs = obs.loc[obs.index.str.startswith('oname:drnsum')] #.astype({c:int for c in ['kper','k','i','j']})\n",
    "# Posterior sim out\n",
    "drnsumoe_df = oe_po_tr.loc[:, drnsumobs.index]\n",
    "drnsumoe_df_pos = drnsumoe_df * -1\n",
    "\n",
    "at_0 = drnsumoe_df.loc[:, 'oname:drnsum_otype:lst_usecol:sum_kper:0']\n",
    "at_20 = drnsumoe_df.loc[:, 'oname:drnsum_otype:lst_usecol:sum_kper:20']\n",
    "at_40 = drnsumoe_df.loc[:, 'oname:drnsum_otype:lst_usecol:sum_kper:40']\n",
    "at_60 = drnsumoe_df.loc[:, 'oname:drnsum_otype:lst_usecol:sum_kper:60']\n",
    "at_90 = drnsumoe_df.loc[:, 'oname:drnsum_otype:lst_usecol:sum_kper:90']\n",
    "\n",
    "drn_0 = at_0 * -1\n",
    "drn_20 = at_20 * -1\n",
    "drn_40 = at_40 * -1\n",
    "drn_60 = at_60 * -1\n",
    "drn_90 = at_90 * -1\n",
    "\n",
    "diff_20 = at_20 - at_0\n",
    "diff_40 = at_40 - at_0\n",
    "diff_60 = at_60 - at_0\n",
    "diff_90 = at_90 - at_0\n",
    "\n",
    "fig, axes = plt.subplots(1,2, figsize=(12,4))\n",
    "\n",
    "ax = axes[0]\n",
    "drnsumoe_df_pos.loc[:, drnsumobs.astype({'kper':int}).sort_values('kper').index].T.reset_index().plot(ax=ax, legend=False, color='red', alpha=0.2)\n",
    "ax.set_title(\"Drain flux versus time\", fontsize=10)\n",
    "ax.tick_params(axis='x', labelsize=10)\n",
    "ax.tick_params(axis='y', labelsize=10)\n",
    "ax.set_xlim(0,100)\n",
    "#ax.set_ylim(-6000, 0)\n",
    "ax.set_xlabel('year of scenario', fontsize=10)\n",
    "ax.set_ylabel('flux m$^3$/day', fontsize=10)\n",
    "\n",
    "ax = axes[1]\n",
    "drn_90.hist(ax=ax, bins=25, color='r', alpha=0.5, density=False, label='2100')\n",
    "drn_60.hist(ax=ax, bins=25, color='y', alpha=0.8, density=False, label='2070')\n",
    "drn_40.hist(ax=ax, bins=25, color='b', alpha=0.8, density=False, label='2050')\n",
    "drn_20.hist(ax=ax, bins=25, color='0.5', alpha=0.9, density=False, label='2030')\n",
    "ax.set_title(\"Drain flux PDF\", fontsize=10)\n",
    "ax.tick_params(axis='x', labelsize=10)\n",
    "ax.tick_params(axis='y', labelsize=10)\n",
    "ax.set_xlabel('flux m$^3$/day', fontsize=10)\n",
    "ax.set_ylabel('frequency', fontsize=10)\n",
    "legend = ax.legend(loc='best', fontsize=10)\n",
    "#plt.savefig(\"plots/SSP5/drain_flux_versus_time.pdf\")\n",
    "#ax.set_ylim(0, 30)"
   ]
  },
  {
   "cell_type": "code",
   "execution_count": null,
   "id": "178de5cb",
   "metadata": {
    "tags": []
   },
   "outputs": [],
   "source": [
    "# get pest obs data\n",
    "obs = pred_pst.observation_data\n",
    "#obs.loc[obs.oname=='wl']\n",
    "w_obs = obs.loc[obs.index.str.contains('sitename')]\n",
    "sitegroups = w_obs.groupby(\"sitename\")\n",
    "for site, w_obs_df in sitegroups:\n",
    "    top = m.dis.top.array[int(w_obs_df.i[0]), int(w_obs_df.j[0])]\n",
    "    at0 = w_obs_df.loc[w_obs_df.kper=='0'].index[0] #2010\n",
    "    at20 = w_obs_df.loc[w_obs_df.kper=='20'].index[0] #2030\n",
    "    at40 = w_obs_df.loc[w_obs_df.kper=='40'].index[0] #2050\n",
    "    at70 = w_obs_df.loc[w_obs_df.kper=='60'].index[0] #2070\n",
    "    at90 = w_obs_df.loc[w_obs_df.kper=='90'].index[0] #2100\n",
    "    at100 = w_obs_df.loc[w_obs_df.kper=='100'].index[0] #2100\n",
    "    \n",
    "    tp_0 = oe_po_tr.loc[:, at0]\n",
    "    tp_20 = oe_po_tr.loc[:, at20]\n",
    "    # Prior sim out\n",
    "    #tp_pr = oe_pr.loc[:, ob]\n",
    "    # Posterior sim out\n",
    "    tp_40 = oe_po_tr.loc[:, at40]\n",
    "    #tp_60 = oe_po_tr.loc[:, at60]\n",
    "    tp_70 = oe_po_tr.loc[:, at70]\n",
    "    tp_90 = oe_po_tr.loc[:, at90]\n",
    "    # OBS \n",
    "    # obsplus = pd.read_csv(os.path.join(m_d, \"Dunedin_SS_base.obs+noise.csv\"), index_col=0)\n",
    "    #tpobsplus = obsplus.loc[:, ob]\n",
    "    \n",
    "    tp_d_40 = tp_40 - tp_0\n",
    "    tp_d_20 = tp_20 - tp_0\n",
    "    #tp_d_60 = tp_60 - tp_0\n",
    "    tp_d_70 = tp_70 - tp_0\n",
    "    tp_d_90 = tp_90 - tp_0\n",
    "    \n",
    "    fig, axes = plt.subplots(1,2, figsize=(10,4))\n",
    "    ax = axes[0]\n",
    "    \n",
    "    tp_d_90.hist(ax=ax, bins=25, color='r', density=False, label='2100', alpha=0.6)\n",
    "    tp_d_70.hist(ax=ax, bins=25, color='y', density=False, label='2070', alpha=0.8)\n",
    "    tp_d_40.hist(ax=ax, bins=25, color='b', density=False, label='2050', alpha=0.8)\n",
    "    tp_d_20.hist(ax=ax, bins=25, color='grey', density=False, label='2030', alpha=0.8)\n",
    "    #tp_d_70.hist(ax=ax, bins=25, color='k', alpha=0.5, density=False)\n",
    "    ax.set_title(site, fontsize=9)\n",
    "    ax.tick_params(axis='x', labelsize=7)\n",
    "    ax.tick_params(axis='y', labelsize=7)\n",
    "    ax.set_xlabel('gw level change (m)', fontsize=9)\n",
    "    ax.set_ylabel('frequency', fontsize=9)\n",
    "    ys = ax.get_ylim()\n",
    "    ax.plot((0.25,0.25), ys, color='k', ls='--', label='Model top')\n",
    "    ax.plot((0.25,0.25), ys, color='r', ls='--', label='Decision threshold')\n",
    "    legend = ax.legend(loc='best', fontsize=7)\n",
    "                  \n",
    "    ax = axes[1]            \n",
    "    #oe_rcp26.loc[:, w_obs_df.astype({'kper':int}).sort_values('kper').index].T.reset_index().plot(ax=ax, legend=False, color='green', alpha=0.2)\n",
    "    oe_po_tr.loc[:, w_obs_df.astype({'kper':int}).sort_values('kper').index].T.reset_index().plot(ax=ax, legend=False, color='r', alpha=0.2)\n",
    "    #oe_rcp85.loc[:, w_obs_df.astype({'kper':int}).sort_values('kper').index].T.reset_index().plot(ax=ax, legend=False, color='red', alpha=0.2)\n",
    "    ax.tick_params(axis='x', labelsize=7)\n",
    "    ax.tick_params(axis='y', labelsize=7)\n",
    "    ax.set_xlabel('Years from start of projection', fontsize=9)\n",
    "    ax.set_ylabel('gw level (m OMD)', fontsize=9)\n",
    "    ax.set_title(site, fontsize=9)\n",
    "    xs = ax.get_xlim()   \n",
    "    ax.plot(xs, (top,top), color='k', ls='--', label='model top')\n",
    "    ax.set_xlim(0,100)\n",
    "        \n",
    "    #plt.savefig(\"plots/SSP5/SSP5_po_{0}.png\".format(site))"
   ]
  },
  {
   "cell_type": "markdown",
   "id": "ea2d6dac-cf84-478e-a392-242223e0b00a",
   "metadata": {},
   "source": [
    "#### Let's have a look at the SLR realisations attached to the model boundary condition"
   ]
  },
  {
   "cell_type": "code",
   "execution_count": null,
   "id": "93fe97c5-7f0f-4a6f-b59f-e6033cd4c1d8",
   "metadata": {
    "tags": []
   },
   "outputs": [],
   "source": [
    "oe_pr = utils.try_load_ensemble(pred_pst, os.path.join(m_d, f\"{pstfnme.stem}.0.obs.csv\"), 'obs')\n",
    "obsplus = utils.try_load_ensemble(pred_pst, os.path.join(m_d, f\"{pstfnme.stem}.obs+noise.csv\"), 'obs')\n",
    "\n",
    "oe = oe_pr\n",
    "\n",
    "# INSERT PROJECTION PERIOD PLOTTING LINE HERE:\n",
    "# ghb verify\n",
    "ghbobs = obs.loc[obs.oname == 'ghb-hd']\n",
    "ghboe = oe.loc[:, ghbobs.index].T\n",
    "ghboe['kper'] = ghbobs.kper.astype(int)\n",
    "ghbmeans = ghboe.groupby('kper').mean()\n",
    "scendf = pd.read_csv(os.path.join(m_d, \"scenario.csv\"))\n",
    "with open(os.path.join(m_d, \"scenario.txt\"), 'r') as f:\n",
    "    scenname = f.readline().strip()\n",
    "fig, ax = plt.subplots(1,1, figsize=(6,4))\n",
    "ax.plot(ghbmeans, c='b', lw=0.1)\n",
    "ax.plot(100.2 + scendf.iloc[:, [2]]/100, lw=1.1, c='r', ls='--', label='Median projection')\n",
    "ax.plot(100.2 + scendf.iloc[:, [3]]/100, lw=1.1, c='k', ls='--')\n",
    "ax.plot(100.2 + scendf.iloc[:, [1]]/100, lw=1.1, c='k', ls='--', label='IPCC \"likely\" range')\n",
    "ax.plot(np.nan,np.nan, c='b', lw=0.1, label='Realizations of SLR')\n",
    "#ax.set_title(scenname)\n",
    "ax.set_ylabel('Sea level m (OMD)', fontsize=10)\n",
    "ax.set_xlabel(\"Year of projection model\", fontsize=10)\n",
    "ax.set_xlim(0,100)\n",
    "ax.set_ylim(100.2,102.2)\n",
    "ax.tick_params(axis='x', labelsize=7)\n",
    "ax.tick_params(axis='y', labelsize=7)\n",
    "ax.legend(fontsize=8)\n",
    "fig.tight_layout()"
   ]
  },
  {
   "cell_type": "code",
   "execution_count": null,
   "id": "232ff886-783b-44a9-bcbf-6e1bfa104856",
   "metadata": {},
   "outputs": [],
   "source": []
  }
 ],
 "metadata": {
  "kernelspec": {
   "display_name": "Python 3 (ipykernel)",
   "language": "python",
   "name": "python3"
  },
  "language_info": {
   "codemirror_mode": {
    "name": "ipython",
    "version": 3
   },
   "file_extension": ".py",
   "mimetype": "text/x-python",
   "name": "python",
   "nbconvert_exporter": "python",
   "pygments_lexer": "ipython3",
   "version": "3.11.0"
  }
 },
 "nbformat": 4,
 "nbformat_minor": 5
}
